{
 "cells": [
  {
   "cell_type": "code",
   "execution_count": 1,
   "metadata": {},
   "outputs": [],
   "source": [
    "import sys\n",
    "if not sys.warnoptions:\n",
    "    import warnings\n",
    "    warnings.simplefilter(\"ignore\")\n",
    "import numpy as np\n",
    "import pandas as pd\n",
    "import matplotlib.pyplot as plt\n",
    "import seaborn as sns\n",
    "import missingno as msno\n",
    "from imblearn import under_sampling, over_sampling\n",
    "from sklearn.impute import SimpleImputer\n",
    "from xgboost import XGBClassifier, plot_importance\n",
    "from sklearn.model_selection import train_test_split\n",
    "from sklearn.metrics import accuracy_score, classification_report, confusion_matrix\n",
    "from imblearn.under_sampling import ClusterCentroids\n",
    "from sklearn.ensemble import RandomForestClassifier\n",
    "%matplotlib inline"
   ]
  },
  {
   "cell_type": "code",
   "execution_count": 2,
   "metadata": {},
   "outputs": [],
   "source": [
    "train= pd.read_csv(\"train.csv\")\n",
    "test = pd.read_csv('test.csv')"
   ]
  },
  {
   "cell_type": "code",
   "execution_count": 3,
   "metadata": {
    "scrolled": true
   },
   "outputs": [
    {
     "data": {
      "text/html": [
       "<div>\n",
       "<style scoped>\n",
       "    .dataframe tbody tr th:only-of-type {\n",
       "        vertical-align: middle;\n",
       "    }\n",
       "\n",
       "    .dataframe tbody tr th {\n",
       "        vertical-align: top;\n",
       "    }\n",
       "\n",
       "    .dataframe thead th {\n",
       "        text-align: right;\n",
       "    }\n",
       "</style>\n",
       "<table border=\"1\" class=\"dataframe\">\n",
       "  <thead>\n",
       "    <tr style=\"text-align: right;\">\n",
       "      <th></th>\n",
       "      <th>id</th>\n",
       "      <th>Gender</th>\n",
       "      <th>Age</th>\n",
       "      <th>Driving_License</th>\n",
       "      <th>Region_Code</th>\n",
       "      <th>Previously_Insured</th>\n",
       "      <th>Vehicle_Age</th>\n",
       "      <th>Vehicle_Damage</th>\n",
       "      <th>Annual_Premium</th>\n",
       "      <th>Policy_Sales_Channel</th>\n",
       "      <th>Vintage</th>\n",
       "      <th>Response</th>\n",
       "    </tr>\n",
       "  </thead>\n",
       "  <tbody>\n",
       "    <tr>\n",
       "      <th>0</th>\n",
       "      <td>1</td>\n",
       "      <td>Male</td>\n",
       "      <td>44</td>\n",
       "      <td>1</td>\n",
       "      <td>28.0</td>\n",
       "      <td>0</td>\n",
       "      <td>&gt; 2 Years</td>\n",
       "      <td>Yes</td>\n",
       "      <td>40454.0</td>\n",
       "      <td>26.0</td>\n",
       "      <td>217</td>\n",
       "      <td>1</td>\n",
       "    </tr>\n",
       "    <tr>\n",
       "      <th>1</th>\n",
       "      <td>2</td>\n",
       "      <td>Male</td>\n",
       "      <td>76</td>\n",
       "      <td>1</td>\n",
       "      <td>3.0</td>\n",
       "      <td>0</td>\n",
       "      <td>1-2 Year</td>\n",
       "      <td>No</td>\n",
       "      <td>33536.0</td>\n",
       "      <td>26.0</td>\n",
       "      <td>183</td>\n",
       "      <td>0</td>\n",
       "    </tr>\n",
       "    <tr>\n",
       "      <th>2</th>\n",
       "      <td>3</td>\n",
       "      <td>Male</td>\n",
       "      <td>47</td>\n",
       "      <td>1</td>\n",
       "      <td>28.0</td>\n",
       "      <td>0</td>\n",
       "      <td>&gt; 2 Years</td>\n",
       "      <td>Yes</td>\n",
       "      <td>38294.0</td>\n",
       "      <td>26.0</td>\n",
       "      <td>27</td>\n",
       "      <td>1</td>\n",
       "    </tr>\n",
       "    <tr>\n",
       "      <th>3</th>\n",
       "      <td>4</td>\n",
       "      <td>Male</td>\n",
       "      <td>21</td>\n",
       "      <td>1</td>\n",
       "      <td>11.0</td>\n",
       "      <td>1</td>\n",
       "      <td>&lt; 1 Year</td>\n",
       "      <td>No</td>\n",
       "      <td>28619.0</td>\n",
       "      <td>152.0</td>\n",
       "      <td>203</td>\n",
       "      <td>0</td>\n",
       "    </tr>\n",
       "    <tr>\n",
       "      <th>4</th>\n",
       "      <td>5</td>\n",
       "      <td>Female</td>\n",
       "      <td>29</td>\n",
       "      <td>1</td>\n",
       "      <td>41.0</td>\n",
       "      <td>1</td>\n",
       "      <td>&lt; 1 Year</td>\n",
       "      <td>No</td>\n",
       "      <td>27496.0</td>\n",
       "      <td>152.0</td>\n",
       "      <td>39</td>\n",
       "      <td>0</td>\n",
       "    </tr>\n",
       "  </tbody>\n",
       "</table>\n",
       "</div>"
      ],
      "text/plain": [
       "   id  Gender  Age  Driving_License  Region_Code  Previously_Insured  \\\n",
       "0   1    Male   44                1         28.0                   0   \n",
       "1   2    Male   76                1          3.0                   0   \n",
       "2   3    Male   47                1         28.0                   0   \n",
       "3   4    Male   21                1         11.0                   1   \n",
       "4   5  Female   29                1         41.0                   1   \n",
       "\n",
       "  Vehicle_Age Vehicle_Damage  Annual_Premium  Policy_Sales_Channel  Vintage  \\\n",
       "0   > 2 Years            Yes         40454.0                  26.0      217   \n",
       "1    1-2 Year             No         33536.0                  26.0      183   \n",
       "2   > 2 Years            Yes         38294.0                  26.0       27   \n",
       "3    < 1 Year             No         28619.0                 152.0      203   \n",
       "4    < 1 Year             No         27496.0                 152.0       39   \n",
       "\n",
       "   Response  \n",
       "0         1  \n",
       "1         0  \n",
       "2         1  \n",
       "3         0  \n",
       "4         0  "
      ]
     },
     "execution_count": 3,
     "metadata": {},
     "output_type": "execute_result"
    }
   ],
   "source": [
    "train.head()"
   ]
  },
  {
   "cell_type": "code",
   "execution_count": 4,
   "metadata": {},
   "outputs": [
    {
     "data": {
      "text/plain": [
       "<bound method DataFrame.info of             id  Gender  Age  Driving_License  Region_Code  Previously_Insured  \\\n",
       "0            1    Male   44                1         28.0                   0   \n",
       "1            2    Male   76                1          3.0                   0   \n",
       "2            3    Male   47                1         28.0                   0   \n",
       "3            4    Male   21                1         11.0                   1   \n",
       "4            5  Female   29                1         41.0                   1   \n",
       "...        ...     ...  ...              ...          ...                 ...   \n",
       "381104  381105    Male   74                1         26.0                   1   \n",
       "381105  381106    Male   30                1         37.0                   1   \n",
       "381106  381107    Male   21                1         30.0                   1   \n",
       "381107  381108  Female   68                1         14.0                   0   \n",
       "381108  381109    Male   46                1         29.0                   0   \n",
       "\n",
       "       Vehicle_Age Vehicle_Damage  Annual_Premium  Policy_Sales_Channel  \\\n",
       "0        > 2 Years            Yes         40454.0                  26.0   \n",
       "1         1-2 Year             No         33536.0                  26.0   \n",
       "2        > 2 Years            Yes         38294.0                  26.0   \n",
       "3         < 1 Year             No         28619.0                 152.0   \n",
       "4         < 1 Year             No         27496.0                 152.0   \n",
       "...            ...            ...             ...                   ...   \n",
       "381104    1-2 Year             No         30170.0                  26.0   \n",
       "381105    < 1 Year             No         40016.0                 152.0   \n",
       "381106    < 1 Year             No         35118.0                 160.0   \n",
       "381107   > 2 Years            Yes         44617.0                 124.0   \n",
       "381108    1-2 Year             No         41777.0                  26.0   \n",
       "\n",
       "        Vintage  Response  \n",
       "0           217         1  \n",
       "1           183         0  \n",
       "2            27         1  \n",
       "3           203         0  \n",
       "4            39         0  \n",
       "...         ...       ...  \n",
       "381104       88         0  \n",
       "381105      131         0  \n",
       "381106      161         0  \n",
       "381107       74         0  \n",
       "381108      237         0  \n",
       "\n",
       "[381109 rows x 12 columns]>"
      ]
     },
     "execution_count": 4,
     "metadata": {},
     "output_type": "execute_result"
    }
   ],
   "source": [
    "train.info"
   ]
  },
  {
   "cell_type": "code",
   "execution_count": 5,
   "metadata": {},
   "outputs": [
    {
     "data": {
      "text/plain": [
       "id                      0\n",
       "Gender                  0\n",
       "Age                     0\n",
       "Driving_License         0\n",
       "Region_Code             0\n",
       "Previously_Insured      0\n",
       "Vehicle_Age             0\n",
       "Vehicle_Damage          0\n",
       "Annual_Premium          0\n",
       "Policy_Sales_Channel    0\n",
       "Vintage                 0\n",
       "Response                0\n",
       "dtype: int64"
      ]
     },
     "execution_count": 5,
     "metadata": {},
     "output_type": "execute_result"
    }
   ],
   "source": [
    "train.isnull().sum(axis = 0)"
   ]
  },
  {
   "cell_type": "markdown",
   "metadata": {},
   "source": [
    "# Data Preparation"
   ]
  },
  {
   "cell_type": "code",
   "execution_count": 6,
   "metadata": {},
   "outputs": [
    {
     "data": {
      "text/html": [
       "<div>\n",
       "<style scoped>\n",
       "    .dataframe tbody tr th:only-of-type {\n",
       "        vertical-align: middle;\n",
       "    }\n",
       "\n",
       "    .dataframe tbody tr th {\n",
       "        vertical-align: top;\n",
       "    }\n",
       "\n",
       "    .dataframe thead th {\n",
       "        text-align: right;\n",
       "    }\n",
       "</style>\n",
       "<table border=\"1\" class=\"dataframe\">\n",
       "  <thead>\n",
       "    <tr style=\"text-align: right;\">\n",
       "      <th></th>\n",
       "      <th>id</th>\n",
       "      <th>Gender</th>\n",
       "      <th>Age</th>\n",
       "      <th>Driving_License</th>\n",
       "      <th>Region_Code</th>\n",
       "      <th>Previously_Insured</th>\n",
       "      <th>Vehicle_Age</th>\n",
       "      <th>Vehicle_Damage</th>\n",
       "      <th>Annual_Premium</th>\n",
       "      <th>Policy_Sales_Channel</th>\n",
       "      <th>Vintage</th>\n",
       "      <th>Response</th>\n",
       "    </tr>\n",
       "  </thead>\n",
       "  <tbody>\n",
       "    <tr>\n",
       "      <th>0</th>\n",
       "      <td>1</td>\n",
       "      <td>Male</td>\n",
       "      <td>44</td>\n",
       "      <td>1</td>\n",
       "      <td>28.0</td>\n",
       "      <td>0</td>\n",
       "      <td>&gt; 2 Years</td>\n",
       "      <td>Yes</td>\n",
       "      <td>40454.0</td>\n",
       "      <td>26.0</td>\n",
       "      <td>217</td>\n",
       "      <td>1</td>\n",
       "    </tr>\n",
       "    <tr>\n",
       "      <th>1</th>\n",
       "      <td>2</td>\n",
       "      <td>Male</td>\n",
       "      <td>76</td>\n",
       "      <td>1</td>\n",
       "      <td>3.0</td>\n",
       "      <td>0</td>\n",
       "      <td>1-2 Year</td>\n",
       "      <td>No</td>\n",
       "      <td>33536.0</td>\n",
       "      <td>26.0</td>\n",
       "      <td>183</td>\n",
       "      <td>0</td>\n",
       "    </tr>\n",
       "    <tr>\n",
       "      <th>2</th>\n",
       "      <td>3</td>\n",
       "      <td>Male</td>\n",
       "      <td>47</td>\n",
       "      <td>1</td>\n",
       "      <td>28.0</td>\n",
       "      <td>0</td>\n",
       "      <td>&gt; 2 Years</td>\n",
       "      <td>Yes</td>\n",
       "      <td>38294.0</td>\n",
       "      <td>26.0</td>\n",
       "      <td>27</td>\n",
       "      <td>1</td>\n",
       "    </tr>\n",
       "  </tbody>\n",
       "</table>\n",
       "</div>"
      ],
      "text/plain": [
       "   id Gender  Age  Driving_License  Region_Code  Previously_Insured  \\\n",
       "0   1   Male   44                1         28.0                   0   \n",
       "1   2   Male   76                1          3.0                   0   \n",
       "2   3   Male   47                1         28.0                   0   \n",
       "\n",
       "  Vehicle_Age Vehicle_Damage  Annual_Premium  Policy_Sales_Channel  Vintage  \\\n",
       "0   > 2 Years            Yes         40454.0                  26.0      217   \n",
       "1    1-2 Year             No         33536.0                  26.0      183   \n",
       "2   > 2 Years            Yes         38294.0                  26.0       27   \n",
       "\n",
       "   Response  \n",
       "0         1  \n",
       "1         0  \n",
       "2         1  "
      ]
     },
     "execution_count": 6,
     "metadata": {},
     "output_type": "execute_result"
    }
   ],
   "source": [
    "train.head(3)"
   ]
  },
  {
   "cell_type": "markdown",
   "metadata": {},
   "source": [
    "## exploratory data analysis"
   ]
  },
  {
   "cell_type": "markdown",
   "metadata": {},
   "source": [
    "### Jumlah tiap respon dari tiap gender \n",
    "Dari semua gender, mayoritas responnya tertarik dengan penawaran asuransi kendaraan."
   ]
  },
  {
   "cell_type": "code",
   "execution_count": 7,
   "metadata": {},
   "outputs": [],
   "source": [
    "Male = train[train[\"Gender\"] == \"Male\"]"
   ]
  },
  {
   "cell_type": "code",
   "execution_count": 8,
   "metadata": {},
   "outputs": [],
   "source": [
    "Female = train[train[\"Gender\"] == \"Female\"]"
   ]
  },
  {
   "cell_type": "code",
   "execution_count": 9,
   "metadata": {},
   "outputs": [
    {
     "name": "stdout",
     "output_type": "stream",
     "text": [
      "Response       0      1\n",
      "Gender                 \n",
      "Female    156835  18185\n",
      "Male      177564  28525\n"
     ]
    }
   ],
   "source": [
    "print(pd.pivot_table(train,index=\"Gender\",columns = 'Response',values = 'id',aggfunc = 'count', observed = True))"
   ]
  },
  {
   "cell_type": "code",
   "execution_count": 10,
   "metadata": {},
   "outputs": [
    {
     "name": "stdout",
     "output_type": "stream",
     "text": [
      "Male      206089\n",
      "Female    175020\n",
      "Name: Gender, dtype: int64\n",
      "\n",
      "\n",
      "Response       0      1\n",
      "Gender                 \n",
      "Female    156835  18185\n",
      "Male      177564  28525\n"
     ]
    },
    {
     "data": {
      "image/png": "[encoded data removed]",
      "text/plain": [
       "<Figure size 936x360 with 2 Axes>"
      ]
     },
     "metadata": {
      "needs_background": "light"
     },
     "output_type": "display_data"
    }
   ],
   "source": [
    "print(train[\"Gender\"].value_counts())\n",
    "print(\"\\n\")\n",
    "print(pd.pivot_table(train,index=\"Gender\",columns = 'Response',values = 'id',aggfunc = 'count', observed = True))\n",
    "\n",
    "plt.figure(figsize = (13,5))\n",
    "plt.subplot(1,2,1)\n",
    "sns.countplot(train['Gender'],palette=\"mako\")\n",
    "plt.title(\"count of male and female\")\n",
    "plt.grid(axis = 'y', linewidth=0.5, color='black')\n",
    "\n",
    "plt.subplot(1,2,2)\n",
    "plt.grid(axis = 'y', linewidth=0.5, color='black')\n",
    "sns.countplot(train['Gender'], hue = train['Response'],palette=\"rocket_r\")\n",
    "plt.title(\"Response in Male and female category\")\n",
    "plt.show()"
   ]
  },
  {
   "cell_type": "markdown",
   "metadata": {},
   "source": [
    "### Jumlah pelanggan berdasarkan kepemilikan asuransi kendaraan\n",
    "mayoritas belum memiliki asuransi kendaraan."
   ]
  },
  {
   "cell_type": "code",
   "execution_count": 11,
   "metadata": {},
   "outputs": [
    {
     "name": "stdout",
     "output_type": "stream",
     "text": [
      "                        id\n",
      "Previously_Insured        \n",
      "0                   206481\n",
      "1                   174628\n"
     ]
    },
    {
     "data": {
      "text/plain": [
       "[Text(0.5, 1.0, 'kepemilikan asuransi kendaraan menurut Jenis Kelamin')]"
      ]
     },
     "execution_count": 11,
     "metadata": {},
     "output_type": "execute_result"
    },
    {
     "data": {
      "image/png": "[encoded data removed]",
      "text/plain": [
       "<Figure size 864x360 with 1 Axes>"
      ]
     },
     "metadata": {
      "needs_background": "light"
     },
     "output_type": "display_data"
    }
   ],
   "source": [
    "plt.figure(figsize = (12,5))\n",
    "plt.subplot(1,2,1)\n",
    "plt.grid(axis = 'y', linewidth=0.5, color='black')\n",
    "print(pd.pivot_table(train,index=\"Previously_Insured\",values = 'id',aggfunc = 'count', observed = True))\n",
    "sns.countplot(train.Previously_Insured).set(title='kepemilikan asuransi kendaraan menurut Jenis Kelamin')"
   ]
  },
  {
   "cell_type": "markdown",
   "metadata": {},
   "source": [
    "### Kepemilikan SIM berdasarkan gender"
   ]
  },
  {
   "cell_type": "code",
   "execution_count": 12,
   "metadata": {},
   "outputs": [
    {
     "name": "stdout",
     "output_type": "stream",
     "text": [
      "   Gender  Driving_License\n",
      "0  Female           175020\n",
      "1    Male           206089\n"
     ]
    },
    {
     "data": {
      "image/png": "[encoded data removed]",
      "text/plain": [
       "<Figure size 360x360 with 1 Axes>"
      ]
     },
     "metadata": {
      "needs_background": "light"
     },
     "output_type": "display_data"
    }
   ],
   "source": [
    "df = train.groupby(['Gender'])['Driving_License'].count().to_frame().reset_index()\n",
    "print(df)\n",
    "\n",
    "sns.catplot(x=\"Gender\", y=\"Driving_License\", data=df, kind=\"bar\").set(title='kepemilikan Driver License menurut Gender')\n",
    "plt.grid(axis = 'y', linewidth=0.5, color='black')"
   ]
  },
  {
   "cell_type": "markdown",
   "metadata": {},
   "source": [
    "### Jumlah riwayat kerusakan pada kendaraan\n"
   ]
  },
  {
   "cell_type": "code",
   "execution_count": 13,
   "metadata": {},
   "outputs": [
    {
     "name": "stdout",
     "output_type": "stream",
     "text": [
      "                    id\n",
      "Vehicle_Damage        \n",
      "No              188696\n",
      "Yes             192413\n"
     ]
    },
    {
     "data": {
      "text/plain": [
       "<AxesSubplot:xlabel='Vehicle_Damage', ylabel='count'>"
      ]
     },
     "execution_count": 13,
     "metadata": {},
     "output_type": "execute_result"
    },
    {
     "data": {
      "image/png": "[encoded data removed]",
      "text/plain": [
       "<Figure size 576x576 with 1 Axes>"
      ]
     },
     "metadata": {
      "needs_background": "light"
     },
     "output_type": "display_data"
    }
   ],
   "source": [
    "plt.figure(figsize = (8,8))\n",
    "plt.grid(axis = 'y', linewidth=0.5, color='black')\n",
    "print(pd.pivot_table(train,index=\"Vehicle_Damage\",values = 'id',aggfunc = 'count', observed = True))\n",
    "sns.countplot(train.Vehicle_Damage)"
   ]
  },
  {
   "cell_type": "markdown",
   "metadata": {},
   "source": [
    "### Jumlah kendaraan berdasarkan usia kendaraannya"
   ]
  },
  {
   "cell_type": "code",
   "execution_count": 14,
   "metadata": {},
   "outputs": [
    {
     "name": "stdout",
     "output_type": "stream",
     "text": [
      "                 id\n",
      "Vehicle_Age        \n",
      "1-2 Year     200316\n",
      "< 1 Year     164786\n",
      "> 2 Years     16007\n"
     ]
    },
    {
     "data": {
      "text/plain": [
       "[Text(0.5, 1.0, 'Banyaknya Kendaraan Berdasarkan Umur-nya')]"
      ]
     },
     "execution_count": 14,
     "metadata": {},
     "output_type": "execute_result"
    },
    {
     "data": {
      "image/png": "[encoded data removed]",
      "text/plain": [
       "<Figure size 396x396 with 1 Axes>"
      ]
     },
     "metadata": {
      "needs_background": "light"
     },
     "output_type": "display_data"
    }
   ],
   "source": [
    "plt.figure(figsize = (5.5,5.5))\n",
    "plt.grid(axis = 'y', linewidth=0.5, color='black')\n",
    "print(pd.pivot_table(train,index=\"Vehicle_Age\",values = 'id',aggfunc = 'count', observed = True))\n",
    "sns.countplot(train.Vehicle_Age).set(title='Banyaknya Kendaraan Berdasarkan Umur-nya')"
   ]
  },
  {
   "cell_type": "markdown",
   "metadata": {},
   "source": [
    "### Riwayat kerusakan kendaraan berdasarkan usia kendaraan\n",
    "kendaraan yang memiliki riwayat kerusakan paling banyak kendaraan dengan usia 1-2 tahun"
   ]
  },
  {
   "cell_type": "code",
   "execution_count": 15,
   "metadata": {},
   "outputs": [
    {
     "name": "stdout",
     "output_type": "stream",
     "text": [
      "Vehicle_Damage      No     Yes\n",
      "Vehicle_Age                   \n",
      "1-2 Year         72091  128225\n",
      "< 1 Year        116590   48196\n",
      "> 2 Years           15   15992\n"
     ]
    },
    {
     "data": {
      "text/plain": [
       "[Text(0.5, 1.0, 'Jumlah Kerusakan Kendaraan Berdasarkan Umurnya')]"
      ]
     },
     "execution_count": 15,
     "metadata": {},
     "output_type": "execute_result"
    },
    {
     "data": {
      "image/png": "[encoded data removed]",
      "text/plain": [
       "<Figure size 396x396 with 1 Axes>"
      ]
     },
     "metadata": {
      "needs_background": "light"
     },
     "output_type": "display_data"
    }
   ],
   "source": [
    "plt.figure(figsize = (5.5,5.5))\n",
    "plt.grid(axis = 'y', linewidth=0.5, color='black')\n",
    "print(pd.pivot_table(train,index=\"Vehicle_Age\",columns = 'Vehicle_Damage',values = 'id',aggfunc = 'count', observed = True))\n",
    "sns.countplot(data=train,x='Vehicle_Age',hue='Vehicle_Damage').set(title = 'Jumlah Kerusakan Kendaraan Berdasarkan Umurnya')"
   ]
  },
  {
   "cell_type": "markdown",
   "metadata": {},
   "source": [
    "### Jumlah tiap respon pada tiap usia kendaraan\n",
    "yang paling banyak tertarik dengan asuransi yang ditawarkan adalah pelanggan dengan pemilik kendaraan yang usia kendaraannya 1-2 tahun"
   ]
  },
  {
   "cell_type": "code",
   "execution_count": 16,
   "metadata": {},
   "outputs": [
    {
     "data": {
      "text/html": [
       "<div>\n",
       "<style scoped>\n",
       "    .dataframe tbody tr th:only-of-type {\n",
       "        vertical-align: middle;\n",
       "    }\n",
       "\n",
       "    .dataframe tbody tr th {\n",
       "        vertical-align: top;\n",
       "    }\n",
       "\n",
       "    .dataframe thead th {\n",
       "        text-align: right;\n",
       "    }\n",
       "</style>\n",
       "<table border=\"1\" class=\"dataframe\">\n",
       "  <thead>\n",
       "    <tr style=\"text-align: right;\">\n",
       "      <th></th>\n",
       "      <th>Vehicle_Age</th>\n",
       "      <th>Response</th>\n",
       "      <th>count</th>\n",
       "    </tr>\n",
       "  </thead>\n",
       "  <tbody>\n",
       "    <tr>\n",
       "      <th>0</th>\n",
       "      <td>1-2 Year</td>\n",
       "      <td>0</td>\n",
       "      <td>165510</td>\n",
       "    </tr>\n",
       "    <tr>\n",
       "      <th>1</th>\n",
       "      <td>1-2 Year</td>\n",
       "      <td>1</td>\n",
       "      <td>34806</td>\n",
       "    </tr>\n",
       "    <tr>\n",
       "      <th>2</th>\n",
       "      <td>&lt; 1 Year</td>\n",
       "      <td>0</td>\n",
       "      <td>157584</td>\n",
       "    </tr>\n",
       "    <tr>\n",
       "      <th>3</th>\n",
       "      <td>&lt; 1 Year</td>\n",
       "      <td>1</td>\n",
       "      <td>7202</td>\n",
       "    </tr>\n",
       "    <tr>\n",
       "      <th>4</th>\n",
       "      <td>&gt; 2 Years</td>\n",
       "      <td>0</td>\n",
       "      <td>11305</td>\n",
       "    </tr>\n",
       "    <tr>\n",
       "      <th>5</th>\n",
       "      <td>&gt; 2 Years</td>\n",
       "      <td>1</td>\n",
       "      <td>4702</td>\n",
       "    </tr>\n",
       "  </tbody>\n",
       "</table>\n",
       "</div>"
      ],
      "text/plain": [
       "  Vehicle_Age  Response   count\n",
       "0    1-2 Year         0  165510\n",
       "1    1-2 Year         1   34806\n",
       "2    < 1 Year         0  157584\n",
       "3    < 1 Year         1    7202\n",
       "4   > 2 Years         0   11305\n",
       "5   > 2 Years         1    4702"
      ]
     },
     "execution_count": 16,
     "metadata": {},
     "output_type": "execute_result"
    }
   ],
   "source": [
    "df=train.groupby(['Vehicle_Age','Response'])['id'].count().to_frame().rename(columns={'id':'count'}).reset_index()\n",
    "df"
   ]
  },
  {
   "cell_type": "code",
   "execution_count": 17,
   "metadata": {},
   "outputs": [
    {
     "name": "stdout",
     "output_type": "stream",
     "text": [
      "Response          0      1\n",
      "Vehicle_Age               \n",
      "1-2 Year     165510  34806\n",
      "< 1 Year     157584   7202\n",
      "> 2 Years     11305   4702\n"
     ]
    },
    {
     "data": {
      "image/png": "[encoded data removed]",
      "text/plain": [
       "<Figure size 705.6x504 with 2 Axes>"
      ]
     },
     "metadata": {
      "needs_background": "light"
     },
     "output_type": "display_data"
    }
   ],
   "source": [
    "sns.catplot(x=\"Vehicle_Age\", y=\"count\",col=\"Response\", data=df, kind=\"bar\",height=7, aspect=.7, palette=\"crest\")\n",
    "print(pd.pivot_table(train,index=\"Vehicle_Age\",columns = 'Response',values = 'id',aggfunc = 'count', observed = True))"
   ]
  },
  {
   "cell_type": "code",
   "execution_count": 18,
   "metadata": {
    "scrolled": true
   },
   "outputs": [
    {
     "data": {
      "text/html": [
       "<div>\n",
       "<style scoped>\n",
       "    .dataframe tbody tr th:only-of-type {\n",
       "        vertical-align: middle;\n",
       "    }\n",
       "\n",
       "    .dataframe tbody tr th {\n",
       "        vertical-align: top;\n",
       "    }\n",
       "\n",
       "    .dataframe thead th {\n",
       "        text-align: right;\n",
       "    }\n",
       "</style>\n",
       "<table border=\"1\" class=\"dataframe\">\n",
       "  <thead>\n",
       "    <tr style=\"text-align: right;\">\n",
       "      <th></th>\n",
       "      <th>Response</th>\n",
       "    </tr>\n",
       "    <tr>\n",
       "      <th>Response</th>\n",
       "      <th></th>\n",
       "    </tr>\n",
       "  </thead>\n",
       "  <tbody>\n",
       "    <tr>\n",
       "      <th>0</th>\n",
       "      <td>334399</td>\n",
       "    </tr>\n",
       "    <tr>\n",
       "      <th>1</th>\n",
       "      <td>46710</td>\n",
       "    </tr>\n",
       "  </tbody>\n",
       "</table>\n",
       "</div>"
      ],
      "text/plain": [
       "          Response\n",
       "Response          \n",
       "0           334399\n",
       "1            46710"
      ]
     },
     "execution_count": 18,
     "metadata": {},
     "output_type": "execute_result"
    }
   ],
   "source": [
    "a=pd.pivot_table(train,index = train['Response'],values = 'Response', aggfunc = 'count', observed = True)\n",
    "a"
   ]
  },
  {
   "cell_type": "code",
   "execution_count": 19,
   "metadata": {},
   "outputs": [
    {
     "name": "stdout",
     "output_type": "stream",
     "text": [
      "          Response\n",
      "Response          \n",
      "0           334399\n",
      "1            46710\n"
     ]
    },
    {
     "data": {
      "image/png": "[encoded data removed]",
      "text/plain": [
       "<Figure size 432x432 with 1 Axes>"
      ]
     },
     "metadata": {},
     "output_type": "display_data"
    }
   ],
   "source": [
    "fig = plt.figure(figsize=(6,6))\n",
    "print(a)\n",
    "\n",
    "ax = plt.axes()\n",
    "ax.pie(a['Response'], labels = ['Not Interested', 'Interested'], autopct='%1.0f%%', explode = [0,0.2],pctdistance=0.6,shadow = True)\n",
    "centre_circle = plt.Circle((0, 0), 0.40, fc='white')\n",
    "fig = plt.gcf()\n",
    "fig.gca().add_artist(centre_circle)\n",
    "ax.set_title('Respon Pelanggan')\n",
    "plt.show()"
   ]
  },
  {
   "cell_type": "markdown",
   "metadata": {},
   "source": [
    "## feature engineering"
   ]
  },
  {
   "cell_type": "code",
   "execution_count": 20,
   "metadata": {},
   "outputs": [],
   "source": [
    "columns = ['id']\n",
    "train.drop(columns, inplace=True, axis=1)"
   ]
  },
  {
   "cell_type": "code",
   "execution_count": 21,
   "metadata": {},
   "outputs": [
    {
     "data": {
      "text/html": [
       "<div>\n",
       "<style scoped>\n",
       "    .dataframe tbody tr th:only-of-type {\n",
       "        vertical-align: middle;\n",
       "    }\n",
       "\n",
       "    .dataframe tbody tr th {\n",
       "        vertical-align: top;\n",
       "    }\n",
       "\n",
       "    .dataframe thead th {\n",
       "        text-align: right;\n",
       "    }\n",
       "</style>\n",
       "<table border=\"1\" class=\"dataframe\">\n",
       "  <thead>\n",
       "    <tr style=\"text-align: right;\">\n",
       "      <th></th>\n",
       "      <th>Gender</th>\n",
       "      <th>Age</th>\n",
       "      <th>Driving_License</th>\n",
       "      <th>Region_Code</th>\n",
       "      <th>Previously_Insured</th>\n",
       "      <th>Vehicle_Age</th>\n",
       "      <th>Vehicle_Damage</th>\n",
       "      <th>Annual_Premium</th>\n",
       "      <th>Policy_Sales_Channel</th>\n",
       "      <th>Vintage</th>\n",
       "      <th>Response</th>\n",
       "    </tr>\n",
       "  </thead>\n",
       "  <tbody>\n",
       "    <tr>\n",
       "      <th>0</th>\n",
       "      <td>Male</td>\n",
       "      <td>44</td>\n",
       "      <td>1</td>\n",
       "      <td>28.0</td>\n",
       "      <td>0</td>\n",
       "      <td>&gt; 2 Years</td>\n",
       "      <td>Yes</td>\n",
       "      <td>40454.0</td>\n",
       "      <td>26.0</td>\n",
       "      <td>217</td>\n",
       "      <td>1</td>\n",
       "    </tr>\n",
       "    <tr>\n",
       "      <th>1</th>\n",
       "      <td>Male</td>\n",
       "      <td>76</td>\n",
       "      <td>1</td>\n",
       "      <td>3.0</td>\n",
       "      <td>0</td>\n",
       "      <td>1-2 Year</td>\n",
       "      <td>No</td>\n",
       "      <td>33536.0</td>\n",
       "      <td>26.0</td>\n",
       "      <td>183</td>\n",
       "      <td>0</td>\n",
       "    </tr>\n",
       "    <tr>\n",
       "      <th>2</th>\n",
       "      <td>Male</td>\n",
       "      <td>47</td>\n",
       "      <td>1</td>\n",
       "      <td>28.0</td>\n",
       "      <td>0</td>\n",
       "      <td>&gt; 2 Years</td>\n",
       "      <td>Yes</td>\n",
       "      <td>38294.0</td>\n",
       "      <td>26.0</td>\n",
       "      <td>27</td>\n",
       "      <td>1</td>\n",
       "    </tr>\n",
       "    <tr>\n",
       "      <th>3</th>\n",
       "      <td>Male</td>\n",
       "      <td>21</td>\n",
       "      <td>1</td>\n",
       "      <td>11.0</td>\n",
       "      <td>1</td>\n",
       "      <td>&lt; 1 Year</td>\n",
       "      <td>No</td>\n",
       "      <td>28619.0</td>\n",
       "      <td>152.0</td>\n",
       "      <td>203</td>\n",
       "      <td>0</td>\n",
       "    </tr>\n",
       "    <tr>\n",
       "      <th>4</th>\n",
       "      <td>Female</td>\n",
       "      <td>29</td>\n",
       "      <td>1</td>\n",
       "      <td>41.0</td>\n",
       "      <td>1</td>\n",
       "      <td>&lt; 1 Year</td>\n",
       "      <td>No</td>\n",
       "      <td>27496.0</td>\n",
       "      <td>152.0</td>\n",
       "      <td>39</td>\n",
       "      <td>0</td>\n",
       "    </tr>\n",
       "    <tr>\n",
       "      <th>...</th>\n",
       "      <td>...</td>\n",
       "      <td>...</td>\n",
       "      <td>...</td>\n",
       "      <td>...</td>\n",
       "      <td>...</td>\n",
       "      <td>...</td>\n",
       "      <td>...</td>\n",
       "      <td>...</td>\n",
       "      <td>...</td>\n",
       "      <td>...</td>\n",
       "      <td>...</td>\n",
       "    </tr>\n",
       "    <tr>\n",
       "      <th>381104</th>\n",
       "      <td>Male</td>\n",
       "      <td>74</td>\n",
       "      <td>1</td>\n",
       "      <td>26.0</td>\n",
       "      <td>1</td>\n",
       "      <td>1-2 Year</td>\n",
       "      <td>No</td>\n",
       "      <td>30170.0</td>\n",
       "      <td>26.0</td>\n",
       "      <td>88</td>\n",
       "      <td>0</td>\n",
       "    </tr>\n",
       "    <tr>\n",
       "      <th>381105</th>\n",
       "      <td>Male</td>\n",
       "      <td>30</td>\n",
       "      <td>1</td>\n",
       "      <td>37.0</td>\n",
       "      <td>1</td>\n",
       "      <td>&lt; 1 Year</td>\n",
       "      <td>No</td>\n",
       "      <td>40016.0</td>\n",
       "      <td>152.0</td>\n",
       "      <td>131</td>\n",
       "      <td>0</td>\n",
       "    </tr>\n",
       "    <tr>\n",
       "      <th>381106</th>\n",
       "      <td>Male</td>\n",
       "      <td>21</td>\n",
       "      <td>1</td>\n",
       "      <td>30.0</td>\n",
       "      <td>1</td>\n",
       "      <td>&lt; 1 Year</td>\n",
       "      <td>No</td>\n",
       "      <td>35118.0</td>\n",
       "      <td>160.0</td>\n",
       "      <td>161</td>\n",
       "      <td>0</td>\n",
       "    </tr>\n",
       "    <tr>\n",
       "      <th>381107</th>\n",
       "      <td>Female</td>\n",
       "      <td>68</td>\n",
       "      <td>1</td>\n",
       "      <td>14.0</td>\n",
       "      <td>0</td>\n",
       "      <td>&gt; 2 Years</td>\n",
       "      <td>Yes</td>\n",
       "      <td>44617.0</td>\n",
       "      <td>124.0</td>\n",
       "      <td>74</td>\n",
       "      <td>0</td>\n",
       "    </tr>\n",
       "    <tr>\n",
       "      <th>381108</th>\n",
       "      <td>Male</td>\n",
       "      <td>46</td>\n",
       "      <td>1</td>\n",
       "      <td>29.0</td>\n",
       "      <td>0</td>\n",
       "      <td>1-2 Year</td>\n",
       "      <td>No</td>\n",
       "      <td>41777.0</td>\n",
       "      <td>26.0</td>\n",
       "      <td>237</td>\n",
       "      <td>0</td>\n",
       "    </tr>\n",
       "  </tbody>\n",
       "</table>\n",
       "<p>381109 rows × 11 columns</p>\n",
       "</div>"
      ],
      "text/plain": [
       "        Gender  Age  Driving_License  Region_Code  Previously_Insured  \\\n",
       "0         Male   44                1         28.0                   0   \n",
       "1         Male   76                1          3.0                   0   \n",
       "2         Male   47                1         28.0                   0   \n",
       "3         Male   21                1         11.0                   1   \n",
       "4       Female   29                1         41.0                   1   \n",
       "...        ...  ...              ...          ...                 ...   \n",
       "381104    Male   74                1         26.0                   1   \n",
       "381105    Male   30                1         37.0                   1   \n",
       "381106    Male   21                1         30.0                   1   \n",
       "381107  Female   68                1         14.0                   0   \n",
       "381108    Male   46                1         29.0                   0   \n",
       "\n",
       "       Vehicle_Age Vehicle_Damage  Annual_Premium  Policy_Sales_Channel  \\\n",
       "0        > 2 Years            Yes         40454.0                  26.0   \n",
       "1         1-2 Year             No         33536.0                  26.0   \n",
       "2        > 2 Years            Yes         38294.0                  26.0   \n",
       "3         < 1 Year             No         28619.0                 152.0   \n",
       "4         < 1 Year             No         27496.0                 152.0   \n",
       "...            ...            ...             ...                   ...   \n",
       "381104    1-2 Year             No         30170.0                  26.0   \n",
       "381105    < 1 Year             No         40016.0                 152.0   \n",
       "381106    < 1 Year             No         35118.0                 160.0   \n",
       "381107   > 2 Years            Yes         44617.0                 124.0   \n",
       "381108    1-2 Year             No         41777.0                  26.0   \n",
       "\n",
       "        Vintage  Response  \n",
       "0           217         1  \n",
       "1           183         0  \n",
       "2            27         1  \n",
       "3           203         0  \n",
       "4            39         0  \n",
       "...         ...       ...  \n",
       "381104       88         0  \n",
       "381105      131         0  \n",
       "381106      161         0  \n",
       "381107       74         0  \n",
       "381108      237         0  \n",
       "\n",
       "[381109 rows x 11 columns]"
      ]
     },
     "execution_count": 21,
     "metadata": {},
     "output_type": "execute_result"
    }
   ],
   "source": [
    "train"
   ]
  },
  {
   "cell_type": "markdown",
   "metadata": {},
   "source": [
    "### encoding categorikal"
   ]
  },
  {
   "cell_type": "markdown",
   "metadata": {},
   "source": [
    "#### usia kendaraan\n",
    "mengganti value dari kolom Vehicle_Age menjadi integer"
   ]
  },
  {
   "cell_type": "code",
   "execution_count": 22,
   "metadata": {
    "scrolled": true
   },
   "outputs": [
    {
     "data": {
      "text/html": [
       "<div>\n",
       "<style scoped>\n",
       "    .dataframe tbody tr th:only-of-type {\n",
       "        vertical-align: middle;\n",
       "    }\n",
       "\n",
       "    .dataframe tbody tr th {\n",
       "        vertical-align: top;\n",
       "    }\n",
       "\n",
       "    .dataframe thead th {\n",
       "        text-align: right;\n",
       "    }\n",
       "</style>\n",
       "<table border=\"1\" class=\"dataframe\">\n",
       "  <thead>\n",
       "    <tr style=\"text-align: right;\">\n",
       "      <th></th>\n",
       "      <th>Gender</th>\n",
       "      <th>Age</th>\n",
       "      <th>Driving_License</th>\n",
       "      <th>Region_Code</th>\n",
       "      <th>Previously_Insured</th>\n",
       "      <th>Vehicle_Age</th>\n",
       "      <th>Vehicle_Damage</th>\n",
       "      <th>Annual_Premium</th>\n",
       "      <th>Policy_Sales_Channel</th>\n",
       "      <th>Vintage</th>\n",
       "      <th>Response</th>\n",
       "    </tr>\n",
       "  </thead>\n",
       "  <tbody>\n",
       "    <tr>\n",
       "      <th>0</th>\n",
       "      <td>Male</td>\n",
       "      <td>44</td>\n",
       "      <td>1</td>\n",
       "      <td>28.0</td>\n",
       "      <td>0</td>\n",
       "      <td>2</td>\n",
       "      <td>Yes</td>\n",
       "      <td>40454.0</td>\n",
       "      <td>26.0</td>\n",
       "      <td>217</td>\n",
       "      <td>1</td>\n",
       "    </tr>\n",
       "    <tr>\n",
       "      <th>1</th>\n",
       "      <td>Male</td>\n",
       "      <td>76</td>\n",
       "      <td>1</td>\n",
       "      <td>3.0</td>\n",
       "      <td>0</td>\n",
       "      <td>1</td>\n",
       "      <td>No</td>\n",
       "      <td>33536.0</td>\n",
       "      <td>26.0</td>\n",
       "      <td>183</td>\n",
       "      <td>0</td>\n",
       "    </tr>\n",
       "    <tr>\n",
       "      <th>2</th>\n",
       "      <td>Male</td>\n",
       "      <td>47</td>\n",
       "      <td>1</td>\n",
       "      <td>28.0</td>\n",
       "      <td>0</td>\n",
       "      <td>2</td>\n",
       "      <td>Yes</td>\n",
       "      <td>38294.0</td>\n",
       "      <td>26.0</td>\n",
       "      <td>27</td>\n",
       "      <td>1</td>\n",
       "    </tr>\n",
       "    <tr>\n",
       "      <th>3</th>\n",
       "      <td>Male</td>\n",
       "      <td>21</td>\n",
       "      <td>1</td>\n",
       "      <td>11.0</td>\n",
       "      <td>1</td>\n",
       "      <td>0</td>\n",
       "      <td>No</td>\n",
       "      <td>28619.0</td>\n",
       "      <td>152.0</td>\n",
       "      <td>203</td>\n",
       "      <td>0</td>\n",
       "    </tr>\n",
       "    <tr>\n",
       "      <th>4</th>\n",
       "      <td>Female</td>\n",
       "      <td>29</td>\n",
       "      <td>1</td>\n",
       "      <td>41.0</td>\n",
       "      <td>1</td>\n",
       "      <td>0</td>\n",
       "      <td>No</td>\n",
       "      <td>27496.0</td>\n",
       "      <td>152.0</td>\n",
       "      <td>39</td>\n",
       "      <td>0</td>\n",
       "    </tr>\n",
       "  </tbody>\n",
       "</table>\n",
       "</div>"
      ],
      "text/plain": [
       "   Gender  Age  Driving_License  Region_Code  Previously_Insured  Vehicle_Age  \\\n",
       "0    Male   44                1         28.0                   0            2   \n",
       "1    Male   76                1          3.0                   0            1   \n",
       "2    Male   47                1         28.0                   0            2   \n",
       "3    Male   21                1         11.0                   1            0   \n",
       "4  Female   29                1         41.0                   1            0   \n",
       "\n",
       "  Vehicle_Damage  Annual_Premium  Policy_Sales_Channel  Vintage  Response  \n",
       "0            Yes         40454.0                  26.0      217         1  \n",
       "1             No         33536.0                  26.0      183         0  \n",
       "2            Yes         38294.0                  26.0       27         1  \n",
       "3             No         28619.0                 152.0      203         0  \n",
       "4             No         27496.0                 152.0       39         0  "
      ]
     },
     "execution_count": 22,
     "metadata": {},
     "output_type": "execute_result"
    }
   ],
   "source": [
    "train['Vehicle_Age'].replace({'< 1 Year':0,'1-2 Year':1,'> 2 Years':2}, inplace=True)\n",
    "train.head()"
   ]
  },
  {
   "cell_type": "code",
   "execution_count": 23,
   "metadata": {},
   "outputs": [
    {
     "data": {
      "text/html": [
       "<div>\n",
       "<style scoped>\n",
       "    .dataframe tbody tr th:only-of-type {\n",
       "        vertical-align: middle;\n",
       "    }\n",
       "\n",
       "    .dataframe tbody tr th {\n",
       "        vertical-align: top;\n",
       "    }\n",
       "\n",
       "    .dataframe thead th {\n",
       "        text-align: right;\n",
       "    }\n",
       "</style>\n",
       "<table border=\"1\" class=\"dataframe\">\n",
       "  <thead>\n",
       "    <tr style=\"text-align: right;\">\n",
       "      <th></th>\n",
       "      <th>Gender</th>\n",
       "      <th>Age</th>\n",
       "      <th>Driving_License</th>\n",
       "      <th>Region_Code</th>\n",
       "      <th>Previously_Insured</th>\n",
       "      <th>Vehicle_Age</th>\n",
       "      <th>Vehicle_Damage</th>\n",
       "      <th>Annual_Premium</th>\n",
       "      <th>Policy_Sales_Channel</th>\n",
       "      <th>Vintage</th>\n",
       "      <th>Response</th>\n",
       "    </tr>\n",
       "  </thead>\n",
       "  <tbody>\n",
       "    <tr>\n",
       "      <th>0</th>\n",
       "      <td>Male</td>\n",
       "      <td>44</td>\n",
       "      <td>1</td>\n",
       "      <td>28.0</td>\n",
       "      <td>0</td>\n",
       "      <td>2</td>\n",
       "      <td>Yes</td>\n",
       "      <td>40454.0</td>\n",
       "      <td>26.0</td>\n",
       "      <td>217</td>\n",
       "      <td>1</td>\n",
       "    </tr>\n",
       "    <tr>\n",
       "      <th>1</th>\n",
       "      <td>Male</td>\n",
       "      <td>76</td>\n",
       "      <td>1</td>\n",
       "      <td>3.0</td>\n",
       "      <td>0</td>\n",
       "      <td>1</td>\n",
       "      <td>No</td>\n",
       "      <td>33536.0</td>\n",
       "      <td>26.0</td>\n",
       "      <td>183</td>\n",
       "      <td>0</td>\n",
       "    </tr>\n",
       "    <tr>\n",
       "      <th>2</th>\n",
       "      <td>Male</td>\n",
       "      <td>47</td>\n",
       "      <td>1</td>\n",
       "      <td>28.0</td>\n",
       "      <td>0</td>\n",
       "      <td>2</td>\n",
       "      <td>Yes</td>\n",
       "      <td>38294.0</td>\n",
       "      <td>26.0</td>\n",
       "      <td>27</td>\n",
       "      <td>1</td>\n",
       "    </tr>\n",
       "    <tr>\n",
       "      <th>3</th>\n",
       "      <td>Male</td>\n",
       "      <td>21</td>\n",
       "      <td>1</td>\n",
       "      <td>11.0</td>\n",
       "      <td>1</td>\n",
       "      <td>0</td>\n",
       "      <td>No</td>\n",
       "      <td>28619.0</td>\n",
       "      <td>152.0</td>\n",
       "      <td>203</td>\n",
       "      <td>0</td>\n",
       "    </tr>\n",
       "    <tr>\n",
       "      <th>4</th>\n",
       "      <td>Female</td>\n",
       "      <td>29</td>\n",
       "      <td>1</td>\n",
       "      <td>41.0</td>\n",
       "      <td>1</td>\n",
       "      <td>0</td>\n",
       "      <td>No</td>\n",
       "      <td>27496.0</td>\n",
       "      <td>152.0</td>\n",
       "      <td>39</td>\n",
       "      <td>0</td>\n",
       "    </tr>\n",
       "    <tr>\n",
       "      <th>...</th>\n",
       "      <td>...</td>\n",
       "      <td>...</td>\n",
       "      <td>...</td>\n",
       "      <td>...</td>\n",
       "      <td>...</td>\n",
       "      <td>...</td>\n",
       "      <td>...</td>\n",
       "      <td>...</td>\n",
       "      <td>...</td>\n",
       "      <td>...</td>\n",
       "      <td>...</td>\n",
       "    </tr>\n",
       "    <tr>\n",
       "      <th>381104</th>\n",
       "      <td>Male</td>\n",
       "      <td>74</td>\n",
       "      <td>1</td>\n",
       "      <td>26.0</td>\n",
       "      <td>1</td>\n",
       "      <td>1</td>\n",
       "      <td>No</td>\n",
       "      <td>30170.0</td>\n",
       "      <td>26.0</td>\n",
       "      <td>88</td>\n",
       "      <td>0</td>\n",
       "    </tr>\n",
       "    <tr>\n",
       "      <th>381105</th>\n",
       "      <td>Male</td>\n",
       "      <td>30</td>\n",
       "      <td>1</td>\n",
       "      <td>37.0</td>\n",
       "      <td>1</td>\n",
       "      <td>0</td>\n",
       "      <td>No</td>\n",
       "      <td>40016.0</td>\n",
       "      <td>152.0</td>\n",
       "      <td>131</td>\n",
       "      <td>0</td>\n",
       "    </tr>\n",
       "    <tr>\n",
       "      <th>381106</th>\n",
       "      <td>Male</td>\n",
       "      <td>21</td>\n",
       "      <td>1</td>\n",
       "      <td>30.0</td>\n",
       "      <td>1</td>\n",
       "      <td>0</td>\n",
       "      <td>No</td>\n",
       "      <td>35118.0</td>\n",
       "      <td>160.0</td>\n",
       "      <td>161</td>\n",
       "      <td>0</td>\n",
       "    </tr>\n",
       "    <tr>\n",
       "      <th>381107</th>\n",
       "      <td>Female</td>\n",
       "      <td>68</td>\n",
       "      <td>1</td>\n",
       "      <td>14.0</td>\n",
       "      <td>0</td>\n",
       "      <td>2</td>\n",
       "      <td>Yes</td>\n",
       "      <td>44617.0</td>\n",
       "      <td>124.0</td>\n",
       "      <td>74</td>\n",
       "      <td>0</td>\n",
       "    </tr>\n",
       "    <tr>\n",
       "      <th>381108</th>\n",
       "      <td>Male</td>\n",
       "      <td>46</td>\n",
       "      <td>1</td>\n",
       "      <td>29.0</td>\n",
       "      <td>0</td>\n",
       "      <td>1</td>\n",
       "      <td>No</td>\n",
       "      <td>41777.0</td>\n",
       "      <td>26.0</td>\n",
       "      <td>237</td>\n",
       "      <td>0</td>\n",
       "    </tr>\n",
       "  </tbody>\n",
       "</table>\n",
       "<p>381109 rows × 11 columns</p>\n",
       "</div>"
      ],
      "text/plain": [
       "        Gender  Age  Driving_License  Region_Code  Previously_Insured  \\\n",
       "0         Male   44                1         28.0                   0   \n",
       "1         Male   76                1          3.0                   0   \n",
       "2         Male   47                1         28.0                   0   \n",
       "3         Male   21                1         11.0                   1   \n",
       "4       Female   29                1         41.0                   1   \n",
       "...        ...  ...              ...          ...                 ...   \n",
       "381104    Male   74                1         26.0                   1   \n",
       "381105    Male   30                1         37.0                   1   \n",
       "381106    Male   21                1         30.0                   1   \n",
       "381107  Female   68                1         14.0                   0   \n",
       "381108    Male   46                1         29.0                   0   \n",
       "\n",
       "        Vehicle_Age Vehicle_Damage  Annual_Premium  Policy_Sales_Channel  \\\n",
       "0                 2            Yes         40454.0                  26.0   \n",
       "1                 1             No         33536.0                  26.0   \n",
       "2                 2            Yes         38294.0                  26.0   \n",
       "3                 0             No         28619.0                 152.0   \n",
       "4                 0             No         27496.0                 152.0   \n",
       "...             ...            ...             ...                   ...   \n",
       "381104            1             No         30170.0                  26.0   \n",
       "381105            0             No         40016.0                 152.0   \n",
       "381106            0             No         35118.0                 160.0   \n",
       "381107            2            Yes         44617.0                 124.0   \n",
       "381108            1             No         41777.0                  26.0   \n",
       "\n",
       "        Vintage  Response  \n",
       "0           217         1  \n",
       "1           183         0  \n",
       "2            27         1  \n",
       "3           203         0  \n",
       "4            39         0  \n",
       "...         ...       ...  \n",
       "381104       88         0  \n",
       "381105      131         0  \n",
       "381106      161         0  \n",
       "381107       74         0  \n",
       "381108      237         0  \n",
       "\n",
       "[381109 rows x 11 columns]"
      ]
     },
     "execution_count": 23,
     "metadata": {},
     "output_type": "execute_result"
    }
   ],
   "source": [
    "train"
   ]
  },
  {
   "cell_type": "markdown",
   "metadata": {},
   "source": [
    "#### Vehicle_Damage\n",
    "mengganti value dari kolom Vehicle_Damage menjadi integer"
   ]
  },
  {
   "cell_type": "code",
   "execution_count": 24,
   "metadata": {
    "scrolled": true
   },
   "outputs": [],
   "source": [
    "train['Vehicle_Damage'].replace({'Yes':1,'No':0}, inplace=True)"
   ]
  },
  {
   "cell_type": "markdown",
   "metadata": {},
   "source": [
    "#### Gender\n",
    "mengganti value dari kolom Gender menjadi integer"
   ]
  },
  {
   "cell_type": "code",
   "execution_count": 25,
   "metadata": {},
   "outputs": [
    {
     "data": {
      "text/html": [
       "<div>\n",
       "<style scoped>\n",
       "    .dataframe tbody tr th:only-of-type {\n",
       "        vertical-align: middle;\n",
       "    }\n",
       "\n",
       "    .dataframe tbody tr th {\n",
       "        vertical-align: top;\n",
       "    }\n",
       "\n",
       "    .dataframe thead th {\n",
       "        text-align: right;\n",
       "    }\n",
       "</style>\n",
       "<table border=\"1\" class=\"dataframe\">\n",
       "  <thead>\n",
       "    <tr style=\"text-align: right;\">\n",
       "      <th></th>\n",
       "      <th>Gender</th>\n",
       "      <th>Age</th>\n",
       "      <th>Driving_License</th>\n",
       "      <th>Region_Code</th>\n",
       "      <th>Previously_Insured</th>\n",
       "      <th>Vehicle_Age</th>\n",
       "      <th>Vehicle_Damage</th>\n",
       "      <th>Annual_Premium</th>\n",
       "      <th>Policy_Sales_Channel</th>\n",
       "      <th>Vintage</th>\n",
       "      <th>Response</th>\n",
       "    </tr>\n",
       "  </thead>\n",
       "  <tbody>\n",
       "    <tr>\n",
       "      <th>0</th>\n",
       "      <td>1</td>\n",
       "      <td>44</td>\n",
       "      <td>1</td>\n",
       "      <td>28.0</td>\n",
       "      <td>0</td>\n",
       "      <td>2</td>\n",
       "      <td>1</td>\n",
       "      <td>40454.0</td>\n",
       "      <td>26.0</td>\n",
       "      <td>217</td>\n",
       "      <td>1</td>\n",
       "    </tr>\n",
       "    <tr>\n",
       "      <th>1</th>\n",
       "      <td>1</td>\n",
       "      <td>76</td>\n",
       "      <td>1</td>\n",
       "      <td>3.0</td>\n",
       "      <td>0</td>\n",
       "      <td>1</td>\n",
       "      <td>0</td>\n",
       "      <td>33536.0</td>\n",
       "      <td>26.0</td>\n",
       "      <td>183</td>\n",
       "      <td>0</td>\n",
       "    </tr>\n",
       "    <tr>\n",
       "      <th>2</th>\n",
       "      <td>1</td>\n",
       "      <td>47</td>\n",
       "      <td>1</td>\n",
       "      <td>28.0</td>\n",
       "      <td>0</td>\n",
       "      <td>2</td>\n",
       "      <td>1</td>\n",
       "      <td>38294.0</td>\n",
       "      <td>26.0</td>\n",
       "      <td>27</td>\n",
       "      <td>1</td>\n",
       "    </tr>\n",
       "  </tbody>\n",
       "</table>\n",
       "</div>"
      ],
      "text/plain": [
       "   Gender  Age  Driving_License  Region_Code  Previously_Insured  Vehicle_Age  \\\n",
       "0       1   44                1         28.0                   0            2   \n",
       "1       1   76                1          3.0                   0            1   \n",
       "2       1   47                1         28.0                   0            2   \n",
       "\n",
       "   Vehicle_Damage  Annual_Premium  Policy_Sales_Channel  Vintage  Response  \n",
       "0               1         40454.0                  26.0      217         1  \n",
       "1               0         33536.0                  26.0      183         0  \n",
       "2               1         38294.0                  26.0       27         1  "
      ]
     },
     "execution_count": 25,
     "metadata": {},
     "output_type": "execute_result"
    }
   ],
   "source": [
    "train['Gender']=train['Gender'].replace({'Male':1,'Female':0})\n",
    "train.head(3)"
   ]
  },
  {
   "cell_type": "markdown",
   "metadata": {},
   "source": [
    "### outlier & Distribusi\n",
    "Menapilkan outlier dan distribusi pada kolom Age dan Annual Premium, dua kolom tersebut tidak perlu dihandling outlier dan distribution karna akan menggunakan model XGBoost"
   ]
  },
  {
   "cell_type": "code",
   "execution_count": 26,
   "metadata": {},
   "outputs": [
    {
     "data": {
      "text/plain": [
       "[Text(0.5, 1.0, 'Distribusi Kolom Age')]"
      ]
     },
     "execution_count": 26,
     "metadata": {},
     "output_type": "execute_result"
    },
    {
     "data": {
      "image/png": "[encoded data removed]",
      "text/plain": [
       "<Figure size 360x360 with 1 Axes>"
      ]
     },
     "metadata": {
      "needs_background": "light"
     },
     "output_type": "display_data"
    }
   ],
   "source": [
    "plt.figure(figsize = (5,5))\n",
    "plt.grid(axis = 'y', linewidth=0.5, color='black')\n",
    "sns.distplot(train['Age']).set(title='Distribusi Kolom Age')"
   ]
  },
  {
   "cell_type": "code",
   "execution_count": 27,
   "metadata": {
    "scrolled": false
   },
   "outputs": [
    {
     "data": {
      "text/plain": [
       "[Text(0.5, 1.0, 'Boxplot Kolom Age')]"
      ]
     },
     "execution_count": 27,
     "metadata": {},
     "output_type": "execute_result"
    },
    {
     "data": {
      "image/png": "[encoded data removed]",
      "text/plain": [
       "<Figure size 432x288 with 1 Axes>"
      ]
     },
     "metadata": {
      "needs_background": "light"
     },
     "output_type": "display_data"
    }
   ],
   "source": [
    "sns.boxplot(x=train[\"Age\"]).set(title='Boxplot Kolom Age')"
   ]
  },
  {
   "cell_type": "code",
   "execution_count": 28,
   "metadata": {
    "scrolled": false
   },
   "outputs": [
    {
     "data": {
      "text/plain": [
       "[Text(0.5, 1.0, 'Boxplot Kolom Annual_Premium')]"
      ]
     },
     "execution_count": 28,
     "metadata": {},
     "output_type": "execute_result"
    },
    {
     "data": {
      "image/png": "[encoded data removed]",
      "text/plain": [
       "<Figure size 432x288 with 1 Axes>"
      ]
     },
     "metadata": {
      "needs_background": "light"
     },
     "output_type": "display_data"
    }
   ],
   "source": [
    "plt.figure(figsize = (6,4))\n",
    "plt.grid(axis = 'y', linewidth=0.5, color='black')\n",
    "sns.boxplot(x = train['Annual_Premium']).set(title='Boxplot Kolom Annual_Premium')"
   ]
  },
  {
   "cell_type": "code",
   "execution_count": 29,
   "metadata": {},
   "outputs": [
    {
     "data": {
      "text/plain": [
       "[Text(0.5, 1.0, 'Distribusi Kolom Annual_Premium')]"
      ]
     },
     "execution_count": 29,
     "metadata": {},
     "output_type": "execute_result"
    },
    {
     "data": {
      "image/png": "[encoded data removed]",
      "text/plain": [
       "<Figure size 360x360 with 1 Axes>"
      ]
     },
     "metadata": {
      "needs_background": "light"
     },
     "output_type": "display_data"
    }
   ],
   "source": [
    "plt.figure(figsize = (5,5))\n",
    "plt.grid(axis = 'y', linewidth=0.5, color='black')\n",
    "\n",
    "\n",
    "sns.distplot(train['Annual_Premium']).set(title='Distribusi Kolom Annual_Premium')"
   ]
  },
  {
   "cell_type": "markdown",
   "metadata": {},
   "source": [
    "# Modeling"
   ]
  },
  {
   "cell_type": "markdown",
   "metadata": {},
   "source": [
    "## Baseline model"
   ]
  },
  {
   "cell_type": "markdown",
   "metadata": {},
   "source": [
    "### Imbalanced handling\n",
    "menggunakan undersampling untuk menyeimbangkan data"
   ]
  },
  {
   "cell_type": "code",
   "execution_count": 30,
   "metadata": {
    "scrolled": true
   },
   "outputs": [
    {
     "data": {
      "text/plain": [
       "0    334399\n",
       "1     46710\n",
       "Name: Response, dtype: int64"
      ]
     },
     "execution_count": 30,
     "metadata": {},
     "output_type": "execute_result"
    }
   ],
   "source": [
    "train['Response'].value_counts()"
   ]
  },
  {
   "cell_type": "code",
   "execution_count": 31,
   "metadata": {},
   "outputs": [
    {
     "data": {
      "text/plain": [
       "(93420, 11)"
      ]
     },
     "execution_count": 31,
     "metadata": {},
     "output_type": "execute_result"
    }
   ],
   "source": [
    "X = train.drop(['Response'],axis=1)\n",
    "y = train['Response']\n",
    "X_under, y_under = under_sampling.RandomUnderSampler().fit_resample(X, y)\n",
    "\n",
    "df_undersampling = pd.concat([X_under, y_under], axis=1)\n",
    "df_undersampling.head(3)\n",
    "df_undersampling.shape"
   ]
  },
  {
   "cell_type": "code",
   "execution_count": 32,
   "metadata": {},
   "outputs": [
    {
     "data": {
      "text/plain": [
       "0    46710\n",
       "1    46710\n",
       "Name: Response, dtype: int64"
      ]
     },
     "execution_count": 32,
     "metadata": {},
     "output_type": "execute_result"
    }
   ],
   "source": [
    "y_under.value_counts()"
   ]
  },
  {
   "cell_type": "code",
   "execution_count": 33,
   "metadata": {},
   "outputs": [],
   "source": [
    "X_train, X_test, y_train, y_test = train_test_split(X_under, y_under, test_size=0.3, random_state=13)"
   ]
  },
  {
   "cell_type": "markdown",
   "metadata": {},
   "source": [
    "### ujicoba model xgboost dengan menggunkan hyperparameter default"
   ]
  },
  {
   "cell_type": "code",
   "execution_count": 34,
   "metadata": {},
   "outputs": [
    {
     "name": "stdout",
     "output_type": "stream",
     "text": [
      "[21:55:37] WARNING: C:\\Windows\\Temp\\abs_557yfx631l\\croots\\recipe\\xgboost-split_1659548953302\\work\\src\\learner.cc:1115: Starting in XGBoost 1.3.0, the default evaluation metric used with the objective 'binary:logistic' was changed from 'error' to 'logloss'. Explicitly set eval_metric if you'd like to restore the old behavior.\n",
      "Accuracy: 0.7953329051594947\n"
     ]
    }
   ],
   "source": [
    "model_xgb = XGBClassifier()\n",
    "model_xgb.fit(X_train, y_train)\n",
    "pred_xgb = model_xgb.predict(X_test) \n",
    "accuracy_xgb = accuracy_score(y_test, pred_xgb)\n",
    "print(\"Accuracy:\" ,accuracy_xgb)"
   ]
  },
  {
   "cell_type": "markdown",
   "metadata": {},
   "source": [
    "### model XGBOOST dengan tuned hyperparameter\n"
   ]
  },
  {
   "cell_type": "code",
   "execution_count": 35,
   "metadata": {},
   "outputs": [],
   "source": [
    "from sklearn import metrics\n",
    "from sklearn.metrics import confusion_matrix"
   ]
  },
  {
   "cell_type": "code",
   "execution_count": 36,
   "metadata": {},
   "outputs": [],
   "source": [
    "from hyperopt import STATUS_OK, Trials, fmin, hp, tpe"
   ]
  },
  {
   "cell_type": "code",
   "execution_count": 37,
   "metadata": {
    "scrolled": false
   },
   "outputs": [],
   "source": [
    "params = {'max_depth': hp.quniform(\"max_depth\", 3, 18, 1),\n",
    "        'gamma': hp.uniform ('gamma', 1,9),\n",
    "        'reg_alpha' : hp.quniform('reg_alpha', 40,180,1),\n",
    "        'reg_lambda' : hp.uniform('reg_lambda', 0,1),\n",
    "        'colsample_bytree' : hp.uniform('colsample_bytree', 0.5,1),\n",
    "        'min_child_weight' : hp.quniform('min_child_weight', 0, 10, 1),\n",
    "        'n_estimators': 100,\n",
    "        'seed': 0,\n",
    "          'learning_rate': hp.quniform('learning_rate', 0.01, 0.2, 0.01)\n",
    "    }"
   ]
  },
  {
   "cell_type": "code",
   "execution_count": 38,
   "metadata": {},
   "outputs": [],
   "source": [
    "def objective(space):\n",
    "    clf=XGBClassifier(\n",
    "                    n_estimators =space['n_estimators'], max_depth = int(space['max_depth']), gamma = space['gamma'],\n",
    "                    reg_alpha = int(space['reg_alpha']),min_child_weight=int(space['min_child_weight']),\n",
    "                    colsample_bytree=int(space['colsample_bytree']))\n",
    "    \n",
    "    evaluation = [(X_train, y_train), (X_test, y_test)]\n",
    "    \n",
    "    clf.fit(X_train, y_train,\n",
    "            eval_set=evaluation, eval_metric=['error','logloss'],\n",
    "            early_stopping_rounds=10,verbose=False)\n",
    "    \n",
    "\n",
    "    pred = clf.predict(X_test)\n",
    "    accuracy = accuracy_score(y_test, pred>0.5)\n",
    "    print (\"SCORE Akurasi:\", accuracy)\n",
    "    return {'loss': -accuracy, 'status': STATUS_OK }"
   ]
  },
  {
   "cell_type": "code",
   "execution_count": 39,
   "metadata": {
    "scrolled": false
   },
   "outputs": [
    {
     "name": "stdout",
     "output_type": "stream",
     "text": [
      "SCORE Akurasi:                                        \n",
      "0.7966887889816598                                    \n",
      "SCORE Akurasi:                                                                   \n",
      "0.7945122386355526                                                               \n",
      "SCORE Akurasi:                                                                   \n",
      "0.7976521801184614                                                               \n",
      "SCORE Akurasi:                                                                   \n",
      "0.7963676586027261                                                               \n",
      "SCORE Akurasi:                                                                   \n",
      "0.7961892528366517                                                               \n",
      "SCORE Akurasi:                                                                   \n",
      "0.7970456005138086                                                               \n",
      "SCORE Akurasi:                                                                   \n",
      "0.7964747020623707                                                               \n",
      "SCORE Akurasi:                                                                   \n",
      "0.7978662670377507                                                               \n",
      "SCORE Akurasi:                                                                   \n",
      "0.7945836009419824                                                               \n",
      "SCORE Akurasi:                                                                   \n",
      "0.7944765574823378                                                               \n",
      "SCORE Akurasi:                                                                    \n",
      "0.7946192820951973                                                                \n",
      "SCORE Akurasi:                                                                    \n",
      "0.7962962962962963                                                                \n",
      "SCORE Akurasi:                                                                    \n",
      "0.7968671947477343                                                                \n",
      "SCORE Akurasi:                                                                    \n",
      "0.7980446728038251                                                                \n",
      "SCORE Akurasi:                                                                    \n",
      "0.7945122386355526                                                                \n",
      "SCORE Akurasi:                                                                    \n",
      "0.7940840647969742                                                                \n",
      "SCORE Akurasi:                                                                    \n",
      "0.7960465282237922                                                                \n",
      "SCORE Akurasi:                                                                    \n",
      "0.7961535716834368                                                                \n",
      "SCORE Akurasi:                                                                    \n",
      "0.7947976878612717                                                                \n",
      "SCORE Akurasi:                                                                    \n",
      "0.7962249339898666                                                                \n",
      "SCORE Akurasi:                                                                    \n",
      "0.7975094555056019                                                                \n",
      "SCORE Akurasi:                                                                    \n",
      "0.7973667308927425                                                                \n",
      "SCORE Akurasi:                                                                    \n",
      "0.7968671947477343                                                                \n",
      "SCORE Akurasi:                                                                    \n",
      "0.7982230785698994                                                                \n",
      "SCORE Akurasi:                                                                    \n",
      "0.797759223578106                                                                 \n",
      "SCORE Akurasi:                                                                    \n",
      "0.7978305858845358                                                                \n",
      "SCORE Akurasi:                                                                    \n",
      "0.7979376293441804                                                                \n",
      "SCORE Akurasi:                                                                    \n",
      "0.7977235424248912                                                                \n",
      "SCORE Akurasi:                                                                    \n",
      "0.7967958324413045                                                                \n",
      "SCORE Akurasi:                                                                    \n",
      "0.7965817455220152                                                                \n",
      "100%|██████████| 30/30 [00:22<00:00,  1.35trial/s, best loss: -0.7982230785698994]\n"
     ]
    }
   ],
   "source": [
    "trials = Trials()\n",
    "\n",
    "best_hyperparams = fmin(fn = objective,\n",
    "                        space = params,\n",
    "                        algo = tpe.suggest,\n",
    "                        max_evals = 30,\n",
    "                        trials = trials)"
   ]
  },
  {
   "cell_type": "code",
   "execution_count": 40,
   "metadata": {
    "scrolled": true
   },
   "outputs": [
    {
     "name": "stdout",
     "output_type": "stream",
     "text": [
      "The best hyperparameters are :  \n",
      "\n",
      "{'colsample_bytree': 0.9451759925133482, 'gamma': 3.010111106436402, 'learning_rate': 0.12, 'max_depth': 7.0, 'min_child_weight': 6.0, 'reg_alpha': 49.0, 'reg_lambda': 0.42174790184867905}\n"
     ]
    }
   ],
   "source": [
    "print(\"The best hyperparameters are : \",\"\\n\")\n",
    "print(best_hyperparams)"
   ]
  },
  {
   "cell_type": "markdown",
   "metadata": {},
   "source": [
    "Setelah best hyperparameter didapatkan, lalu digunakan pada parameter XGBoost, dan menghasilkan accuracy yang lebih tinggi dibandingan accurasi XGBoost dengan hyperparameter default"
   ]
  },
  {
   "cell_type": "code",
   "execution_count": 58,
   "metadata": {
    "scrolled": true
   },
   "outputs": [
    {
     "name": "stdout",
     "output_type": "stream",
     "text": [
      "[0]\tvalidation_0-error:0.21707\tvalidation_0-logloss:0.62368\tvalidation_1-error:0.21737\tvalidation_1-logloss:0.62372\n",
      "[1]\tvalidation_0-error:0.21516\tvalidation_0-logloss:0.57868\tvalidation_1-error:0.21541\tvalidation_1-logloss:0.57862\n",
      "[2]\tvalidation_0-error:0.20800\tvalidation_0-logloss:0.54073\tvalidation_1-error:0.21002\tvalidation_1-logloss:0.54085\n",
      "[3]\tvalidation_0-error:0.20626\tvalidation_0-logloss:0.52966\tvalidation_1-error:0.20788\tvalidation_1-logloss:0.52983\n",
      "[4]\tvalidation_0-error:0.20448\tvalidation_0-logloss:0.50580\tvalidation_1-error:0.20634\tvalidation_1-logloss:0.50584\n",
      "[5]\tvalidation_0-error:0.20448\tvalidation_0-logloss:0.48915\tvalidation_1-error:0.20545\tvalidation_1-logloss:0.48908\n",
      "[6]\tvalidation_0-error:0.20678\tvalidation_0-logloss:0.48413\tvalidation_1-error:0.20613\tvalidation_1-logloss:0.48402\n",
      "[7]\tvalidation_0-error:0.20641\tvalidation_0-logloss:0.47164\tvalidation_1-error:0.20595\tvalidation_1-logloss:0.47167\n",
      "[8]\tvalidation_0-error:0.20591\tvalidation_0-logloss:0.46309\tvalidation_1-error:0.20574\tvalidation_1-logloss:0.46320\n",
      "[9]\tvalidation_0-error:0.20435\tvalidation_0-logloss:0.45565\tvalidation_1-error:0.20545\tvalidation_1-logloss:0.45576\n",
      "[10]\tvalidation_0-error:0.20430\tvalidation_0-logloss:0.45021\tvalidation_1-error:0.20509\tvalidation_1-logloss:0.45039\n",
      "[11]\tvalidation_0-error:0.20396\tvalidation_0-logloss:0.44475\tvalidation_1-error:0.20470\tvalidation_1-logloss:0.44509\n",
      "[12]\tvalidation_0-error:0.20401\tvalidation_0-logloss:0.44089\tvalidation_1-error:0.20488\tvalidation_1-logloss:0.44135\n",
      "[13]\tvalidation_0-error:0.20378\tvalidation_0-logloss:0.43806\tvalidation_1-error:0.20442\tvalidation_1-logloss:0.43866\n",
      "[14]\tvalidation_0-error:0.20372\tvalidation_0-logloss:0.43561\tvalidation_1-error:0.20467\tvalidation_1-logloss:0.43633\n",
      "[15]\tvalidation_0-error:0.20326\tvalidation_0-logloss:0.43386\tvalidation_1-error:0.20470\tvalidation_1-logloss:0.43469\n",
      "[16]\tvalidation_0-error:0.20332\tvalidation_0-logloss:0.43205\tvalidation_1-error:0.20442\tvalidation_1-logloss:0.43288\n",
      "[17]\tvalidation_0-error:0.20323\tvalidation_0-logloss:0.43131\tvalidation_1-error:0.20435\tvalidation_1-logloss:0.43226\n",
      "[18]\tvalidation_0-error:0.20306\tvalidation_0-logloss:0.43015\tvalidation_1-error:0.20378\tvalidation_1-logloss:0.43120\n",
      "[19]\tvalidation_0-error:0.20331\tvalidation_0-logloss:0.42966\tvalidation_1-error:0.20399\tvalidation_1-logloss:0.43073\n",
      "[20]\tvalidation_0-error:0.20272\tvalidation_0-logloss:0.42863\tvalidation_1-error:0.20370\tvalidation_1-logloss:0.42989\n",
      "[21]\tvalidation_0-error:0.20288\tvalidation_0-logloss:0.42788\tvalidation_1-error:0.20399\tvalidation_1-logloss:0.42919\n",
      "[22]\tvalidation_0-error:0.20277\tvalidation_0-logloss:0.42725\tvalidation_1-error:0.20370\tvalidation_1-logloss:0.42861\n",
      "[23]\tvalidation_0-error:0.20257\tvalidation_0-logloss:0.42661\tvalidation_1-error:0.20349\tvalidation_1-logloss:0.42806\n",
      "[24]\tvalidation_0-error:0.20257\tvalidation_0-logloss:0.42611\tvalidation_1-error:0.20335\tvalidation_1-logloss:0.42765\n",
      "[25]\tvalidation_0-error:0.20259\tvalidation_0-logloss:0.42576\tvalidation_1-error:0.20331\tvalidation_1-logloss:0.42738\n",
      "[26]\tvalidation_0-error:0.20248\tvalidation_0-logloss:0.42532\tvalidation_1-error:0.20342\tvalidation_1-logloss:0.42702\n",
      "[27]\tvalidation_0-error:0.20266\tvalidation_0-logloss:0.42509\tvalidation_1-error:0.20328\tvalidation_1-logloss:0.42685\n",
      "[28]\tvalidation_0-error:0.20259\tvalidation_0-logloss:0.42496\tvalidation_1-error:0.20331\tvalidation_1-logloss:0.42675\n",
      "[29]\tvalidation_0-error:0.20259\tvalidation_0-logloss:0.42471\tvalidation_1-error:0.20328\tvalidation_1-logloss:0.42657\n",
      "[30]\tvalidation_0-error:0.20243\tvalidation_0-logloss:0.42458\tvalidation_1-error:0.20306\tvalidation_1-logloss:0.42648\n",
      "[31]\tvalidation_0-error:0.20243\tvalidation_0-logloss:0.42444\tvalidation_1-error:0.20303\tvalidation_1-logloss:0.42636\n",
      "[32]\tvalidation_0-error:0.20230\tvalidation_0-logloss:0.42430\tvalidation_1-error:0.20356\tvalidation_1-logloss:0.42627\n",
      "[33]\tvalidation_0-error:0.20239\tvalidation_0-logloss:0.42422\tvalidation_1-error:0.20342\tvalidation_1-logloss:0.42618\n",
      "[34]\tvalidation_0-error:0.20231\tvalidation_0-logloss:0.42404\tvalidation_1-error:0.20320\tvalidation_1-logloss:0.42607\n",
      "[35]\tvalidation_0-error:0.20248\tvalidation_0-logloss:0.42399\tvalidation_1-error:0.20281\tvalidation_1-logloss:0.42603\n",
      "[36]\tvalidation_0-error:0.20222\tvalidation_0-logloss:0.42394\tvalidation_1-error:0.20303\tvalidation_1-logloss:0.42600\n",
      "[37]\tvalidation_0-error:0.20222\tvalidation_0-logloss:0.42381\tvalidation_1-error:0.20278\tvalidation_1-logloss:0.42589\n",
      "[38]\tvalidation_0-error:0.20213\tvalidation_0-logloss:0.42367\tvalidation_1-error:0.20295\tvalidation_1-logloss:0.42578\n",
      "[39]\tvalidation_0-error:0.20204\tvalidation_0-logloss:0.42355\tvalidation_1-error:0.20285\tvalidation_1-logloss:0.42567\n",
      "[40]\tvalidation_0-error:0.20204\tvalidation_0-logloss:0.42352\tvalidation_1-error:0.20285\tvalidation_1-logloss:0.42564\n",
      "[41]\tvalidation_0-error:0.20204\tvalidation_0-logloss:0.42352\tvalidation_1-error:0.20285\tvalidation_1-logloss:0.42564\n",
      "[42]\tvalidation_0-error:0.20210\tvalidation_0-logloss:0.42344\tvalidation_1-error:0.20278\tvalidation_1-logloss:0.42561\n",
      "[43]\tvalidation_0-error:0.20210\tvalidation_0-logloss:0.42344\tvalidation_1-error:0.20278\tvalidation_1-logloss:0.42561\n",
      "[44]\tvalidation_0-error:0.20210\tvalidation_0-logloss:0.42344\tvalidation_1-error:0.20278\tvalidation_1-logloss:0.42561\n",
      "[45]\tvalidation_0-error:0.20210\tvalidation_0-logloss:0.42344\tvalidation_1-error:0.20278\tvalidation_1-logloss:0.42561\n",
      "[46]\tvalidation_0-error:0.20217\tvalidation_0-logloss:0.42331\tvalidation_1-error:0.20303\tvalidation_1-logloss:0.42549\n",
      "[47]\tvalidation_0-error:0.20220\tvalidation_0-logloss:0.42327\tvalidation_1-error:0.20303\tvalidation_1-logloss:0.42548\n",
      "[48]\tvalidation_0-error:0.20220\tvalidation_0-logloss:0.42327\tvalidation_1-error:0.20303\tvalidation_1-logloss:0.42548\n",
      "[49]\tvalidation_0-error:0.20204\tvalidation_0-logloss:0.42317\tvalidation_1-error:0.20274\tvalidation_1-logloss:0.42544\n",
      "[50]\tvalidation_0-error:0.20208\tvalidation_0-logloss:0.42312\tvalidation_1-error:0.20274\tvalidation_1-logloss:0.42543\n",
      "[51]\tvalidation_0-error:0.20201\tvalidation_0-logloss:0.42309\tvalidation_1-error:0.20267\tvalidation_1-logloss:0.42540\n",
      "[52]\tvalidation_0-error:0.20213\tvalidation_0-logloss:0.42307\tvalidation_1-error:0.20267\tvalidation_1-logloss:0.42541\n",
      "[53]\tvalidation_0-error:0.20207\tvalidation_0-logloss:0.42305\tvalidation_1-error:0.20267\tvalidation_1-logloss:0.42543\n",
      "[54]\tvalidation_0-error:0.20207\tvalidation_0-logloss:0.42305\tvalidation_1-error:0.20267\tvalidation_1-logloss:0.42543\n",
      "[55]\tvalidation_0-error:0.20207\tvalidation_0-logloss:0.42305\tvalidation_1-error:0.20267\tvalidation_1-logloss:0.42543\n",
      "[56]\tvalidation_0-error:0.20207\tvalidation_0-logloss:0.42305\tvalidation_1-error:0.20267\tvalidation_1-logloss:0.42543\n",
      "[57]\tvalidation_0-error:0.20207\tvalidation_0-logloss:0.42305\tvalidation_1-error:0.20267\tvalidation_1-logloss:0.42543\n",
      "[58]\tvalidation_0-error:0.20207\tvalidation_0-logloss:0.42305\tvalidation_1-error:0.20267\tvalidation_1-logloss:0.42543\n",
      "[59]\tvalidation_0-error:0.20207\tvalidation_0-logloss:0.42305\tvalidation_1-error:0.20267\tvalidation_1-logloss:0.42543\n",
      "[60]\tvalidation_0-error:0.20207\tvalidation_0-logloss:0.42301\tvalidation_1-error:0.20267\tvalidation_1-logloss:0.42540\n",
      "[61]\tvalidation_0-error:0.20207\tvalidation_0-logloss:0.42301\tvalidation_1-error:0.20267\tvalidation_1-logloss:0.42540\n",
      "[62]\tvalidation_0-error:0.20207\tvalidation_0-logloss:0.42301\tvalidation_1-error:0.20267\tvalidation_1-logloss:0.42540\n",
      "[63]\tvalidation_0-error:0.20207\tvalidation_0-logloss:0.42301\tvalidation_1-error:0.20267\tvalidation_1-logloss:0.42540\n",
      "[64]\tvalidation_0-error:0.20207\tvalidation_0-logloss:0.42301\tvalidation_1-error:0.20267\tvalidation_1-logloss:0.42540\n",
      "[65]\tvalidation_0-error:0.20202\tvalidation_0-logloss:0.42296\tvalidation_1-error:0.20278\tvalidation_1-logloss:0.42536\n",
      "[66]\tvalidation_0-error:0.20202\tvalidation_0-logloss:0.42296\tvalidation_1-error:0.20278\tvalidation_1-logloss:0.42536\n",
      "[67]\tvalidation_0-error:0.20202\tvalidation_0-logloss:0.42296\tvalidation_1-error:0.20278\tvalidation_1-logloss:0.42536\n",
      "[68]\tvalidation_0-error:0.20202\tvalidation_0-logloss:0.42296\tvalidation_1-error:0.20278\tvalidation_1-logloss:0.42536\n",
      "[69]\tvalidation_0-error:0.20202\tvalidation_0-logloss:0.42296\tvalidation_1-error:0.20278\tvalidation_1-logloss:0.42536\n",
      "[70]\tvalidation_0-error:0.20202\tvalidation_0-logloss:0.42296\tvalidation_1-error:0.20278\tvalidation_1-logloss:0.42536\n",
      "[71]\tvalidation_0-error:0.20202\tvalidation_0-logloss:0.42296\tvalidation_1-error:0.20278\tvalidation_1-logloss:0.42536\n",
      "[72]\tvalidation_0-error:0.20202\tvalidation_0-logloss:0.42296\tvalidation_1-error:0.20278\tvalidation_1-logloss:0.42536\n",
      "[73]\tvalidation_0-error:0.20202\tvalidation_0-logloss:0.42296\tvalidation_1-error:0.20278\tvalidation_1-logloss:0.42536\n",
      "[74]\tvalidation_0-error:0.20202\tvalidation_0-logloss:0.42296\tvalidation_1-error:0.20278\tvalidation_1-logloss:0.42536\n",
      "[75]\tvalidation_0-error:0.20202\tvalidation_0-logloss:0.42296\tvalidation_1-error:0.20278\tvalidation_1-logloss:0.42536\n",
      "[76]\tvalidation_0-error:0.20202\tvalidation_0-logloss:0.42296\tvalidation_1-error:0.20278\tvalidation_1-logloss:0.42536\n",
      "[77]\tvalidation_0-error:0.20202\tvalidation_0-logloss:0.42296\tvalidation_1-error:0.20278\tvalidation_1-logloss:0.42536\n",
      "[78]\tvalidation_0-error:0.20202\tvalidation_0-logloss:0.42296\tvalidation_1-error:0.20278\tvalidation_1-logloss:0.42536\n",
      "[79]\tvalidation_0-error:0.20202\tvalidation_0-logloss:0.42296\tvalidation_1-error:0.20278\tvalidation_1-logloss:0.42536\n",
      "[80]\tvalidation_0-error:0.20202\tvalidation_0-logloss:0.42296\tvalidation_1-error:0.20278\tvalidation_1-logloss:0.42536\n",
      "[81]\tvalidation_0-error:0.20202\tvalidation_0-logloss:0.42296\tvalidation_1-error:0.20278\tvalidation_1-logloss:0.42536\n",
      "[82]\tvalidation_0-error:0.20202\tvalidation_0-logloss:0.42296\tvalidation_1-error:0.20278\tvalidation_1-logloss:0.42536\n",
      "[83]\tvalidation_0-error:0.20202\tvalidation_0-logloss:0.42296\tvalidation_1-error:0.20278\tvalidation_1-logloss:0.42536\n",
      "[84]\tvalidation_0-error:0.20202\tvalidation_0-logloss:0.42296\tvalidation_1-error:0.20278\tvalidation_1-logloss:0.42536\n",
      "[85]\tvalidation_0-error:0.20202\tvalidation_0-logloss:0.42296\tvalidation_1-error:0.20278\tvalidation_1-logloss:0.42536\n",
      "[86]\tvalidation_0-error:0.20202\tvalidation_0-logloss:0.42296\tvalidation_1-error:0.20278\tvalidation_1-logloss:0.42536\n",
      "[87]\tvalidation_0-error:0.20202\tvalidation_0-logloss:0.42296\tvalidation_1-error:0.20278\tvalidation_1-logloss:0.42536\n",
      "[88]\tvalidation_0-error:0.20202\tvalidation_0-logloss:0.42296\tvalidation_1-error:0.20278\tvalidation_1-logloss:0.42536\n",
      "[89]\tvalidation_0-error:0.20202\tvalidation_0-logloss:0.42296\tvalidation_1-error:0.20278\tvalidation_1-logloss:0.42536\n",
      "[90]\tvalidation_0-error:0.20202\tvalidation_0-logloss:0.42296\tvalidation_1-error:0.20278\tvalidation_1-logloss:0.42536\n",
      "[91]\tvalidation_0-error:0.20202\tvalidation_0-logloss:0.42296\tvalidation_1-error:0.20278\tvalidation_1-logloss:0.42536\n",
      "[92]\tvalidation_0-error:0.20202\tvalidation_0-logloss:0.42296\tvalidation_1-error:0.20278\tvalidation_1-logloss:0.42536\n",
      "[93]\tvalidation_0-error:0.20202\tvalidation_0-logloss:0.42296\tvalidation_1-error:0.20278\tvalidation_1-logloss:0.42536\n",
      "[94]\tvalidation_0-error:0.20202\tvalidation_0-logloss:0.42296\tvalidation_1-error:0.20278\tvalidation_1-logloss:0.42536\n",
      "[95]\tvalidation_0-error:0.20202\tvalidation_0-logloss:0.42296\tvalidation_1-error:0.20278\tvalidation_1-logloss:0.42536\n",
      "[96]\tvalidation_0-error:0.20202\tvalidation_0-logloss:0.42296\tvalidation_1-error:0.20278\tvalidation_1-logloss:0.42536\n",
      "[97]\tvalidation_0-error:0.20202\tvalidation_0-logloss:0.42296\tvalidation_1-error:0.20278\tvalidation_1-logloss:0.42536\n",
      "[98]\tvalidation_0-error:0.20202\tvalidation_0-logloss:0.42296\tvalidation_1-error:0.20278\tvalidation_1-logloss:0.42536\n",
      "[99]\tvalidation_0-error:0.20202\tvalidation_0-logloss:0.42296\tvalidation_1-error:0.20278\tvalidation_1-logloss:0.42536\n",
      "Accuracy: 0.797224006279883\n"
     ]
    }
   ],
   "source": [
    "model_xgb_bestparams = XGBClassifier(colsample_bytree= 0.6867988935946676, gamma= 2.0672479277514437, learning_rate= 0.2, \n",
    "                                     max_depth= 13, min_child_weight= 10, reg_alpha= 53.0, \n",
    "                                     reg_lambda= 0.8698526815895538,n_estimators = 100 )\n",
    "eval_set = [(X_train, y_train),(X_test,y_test)]\n",
    "model_xgb_bestparams.fit(X_train, y_train,eval_metric=['error','logloss'],eval_set = eval_set)\n",
    "\n",
    "pred_xgb = model_xgb_bestparams.predict(X_test) \n",
    "predictions_xgb = [round(value) for value in pred_xgb]\n",
    "accuracy_xgb = accuracy_score(y_test, predictions_xgb)\n",
    "print(\"Accuracy:\" ,accuracy_xgb)"
   ]
  },
  {
   "cell_type": "markdown",
   "metadata": {},
   "source": [
    "#### hyperparameter dan metric evaluasi"
   ]
  },
  {
   "cell_type": "code",
   "execution_count": 42,
   "metadata": {},
   "outputs": [
    {
     "data": {
      "text/plain": [
       "0.9317564670573103"
      ]
     },
     "execution_count": 42,
     "metadata": {},
     "output_type": "execute_result"
    }
   ],
   "source": [
    "metrics.recall_score(y_test,predictions_xgb)"
   ]
  },
  {
   "cell_type": "code",
   "execution_count": 43,
   "metadata": {
    "scrolled": true
   },
   "outputs": [
    {
     "data": {
      "text/plain": [
       "0.7974061696746072"
      ]
     },
     "execution_count": 43,
     "metadata": {},
     "output_type": "execute_result"
    }
   ],
   "source": [
    "metrics.roc_auc_score(y_test,predictions_xgb)"
   ]
  },
  {
   "cell_type": "code",
   "execution_count": 44,
   "metadata": {
    "scrolled": false
   },
   "outputs": [
    {
     "data": {
      "text/plain": [
       "0.7338886700061913"
      ]
     },
     "execution_count": 44,
     "metadata": {},
     "output_type": "execute_result"
    }
   ],
   "source": [
    "metrics.precision_score(y_test, predictions_xgb)"
   ]
  },
  {
   "cell_type": "code",
   "execution_count": 45,
   "metadata": {},
   "outputs": [
    {
     "data": {
      "text/plain": [
       "array([[ 9304,  4728],\n",
       "       [  955, 13039]], dtype=int64)"
      ]
     },
     "execution_count": 45,
     "metadata": {},
     "output_type": "execute_result"
    }
   ],
   "source": [
    "confusion_matrix(y_test,predictions_xgb)"
   ]
  },
  {
   "cell_type": "code",
   "execution_count": 46,
   "metadata": {},
   "outputs": [],
   "source": [
    "y_xgb_prob = model_xgb_bestparams.predict_proba(X_test)\n",
    "y_xgb_prob = y_xgb_prob[:,1]"
   ]
  },
  {
   "cell_type": "code",
   "execution_count": 47,
   "metadata": {},
   "outputs": [],
   "source": [
    "fprxgb,tprxgb,thresholds_xgb = metrics.roc_curve(y_test,y_xgb_prob)"
   ]
  },
  {
   "cell_type": "code",
   "execution_count": 48,
   "metadata": {},
   "outputs": [
    {
     "data": {
      "image/png": "[encoded data removed]",
      "text/plain": [
       "<Figure size 432x288 with 1 Axes>"
      ]
     },
     "metadata": {
      "needs_background": "light"
     },
     "output_type": "display_data"
    }
   ],
   "source": [
    "plt.plot(fprxgb,tprxgb, label = 'XGBoost')\n",
    "plt.xlim(0,1)\n",
    "plt.ylim(0,1)\n",
    "plt.legend(loc = \"lower right\")\n",
    "plt.title(\"ROC\")\n",
    "plt.xlabel(\"False Positive Rate\")\n",
    "plt.ylabel(\"True Positive Rate\")\n",
    "plt.grid(True)"
   ]
  },
  {
   "cell_type": "markdown",
   "metadata": {},
   "source": [
    "### model analysis (improve model)"
   ]
  },
  {
   "cell_type": "code",
   "execution_count": 49,
   "metadata": {},
   "outputs": [],
   "source": [
    "from xgboost import plot_tree,plot_importance\n",
    "from sklearn.model_selection import KFold\n",
    "from sklearn.model_selection import cross_val_score\n",
    "import graphviz"
   ]
  },
  {
   "cell_type": "markdown",
   "metadata": {},
   "source": [
    "#### cross validation"
   ]
  },
  {
   "cell_type": "code",
   "execution_count": 50,
   "metadata": {},
   "outputs": [
    {
     "name": "stdout",
     "output_type": "stream",
     "text": [
      "[21:56:05] WARNING: C:\\Windows\\Temp\\abs_557yfx631l\\croots\\recipe\\xgboost-split_1659548953302\\work\\src\\learner.cc:1115: Starting in XGBoost 1.3.0, the default evaluation metric used with the objective 'binary:logistic' was changed from 'error' to 'logloss'. Explicitly set eval_metric if you'd like to restore the old behavior.\n",
      "[21:56:07] WARNING: C:\\Windows\\Temp\\abs_557yfx631l\\croots\\recipe\\xgboost-split_1659548953302\\work\\src\\learner.cc:1115: Starting in XGBoost 1.3.0, the default evaluation metric used with the objective 'binary:logistic' was changed from 'error' to 'logloss'. Explicitly set eval_metric if you'd like to restore the old behavior.\n",
      "[21:56:10] WARNING: C:\\Windows\\Temp\\abs_557yfx631l\\croots\\recipe\\xgboost-split_1659548953302\\work\\src\\learner.cc:1115: Starting in XGBoost 1.3.0, the default evaluation metric used with the objective 'binary:logistic' was changed from 'error' to 'logloss'. Explicitly set eval_metric if you'd like to restore the old behavior.\n",
      "[21:56:12] WARNING: C:\\Windows\\Temp\\abs_557yfx631l\\croots\\recipe\\xgboost-split_1659548953302\\work\\src\\learner.cc:1115: Starting in XGBoost 1.3.0, the default evaluation metric used with the objective 'binary:logistic' was changed from 'error' to 'logloss'. Explicitly set eval_metric if you'd like to restore the old behavior.\n",
      "[21:56:14] WARNING: C:\\Windows\\Temp\\abs_557yfx631l\\croots\\recipe\\xgboost-split_1659548953302\\work\\src\\learner.cc:1115: Starting in XGBoost 1.3.0, the default evaluation metric used with the objective 'binary:logistic' was changed from 'error' to 'logloss'. Explicitly set eval_metric if you'd like to restore the old behavior.\n",
      "[21:56:16] WARNING: C:\\Windows\\Temp\\abs_557yfx631l\\croots\\recipe\\xgboost-split_1659548953302\\work\\src\\learner.cc:1115: Starting in XGBoost 1.3.0, the default evaluation metric used with the objective 'binary:logistic' was changed from 'error' to 'logloss'. Explicitly set eval_metric if you'd like to restore the old behavior.\n",
      "[21:56:18] WARNING: C:\\Windows\\Temp\\abs_557yfx631l\\croots\\recipe\\xgboost-split_1659548953302\\work\\src\\learner.cc:1115: Starting in XGBoost 1.3.0, the default evaluation metric used with the objective 'binary:logistic' was changed from 'error' to 'logloss'. Explicitly set eval_metric if you'd like to restore the old behavior.\n",
      "[21:56:20] WARNING: C:\\Windows\\Temp\\abs_557yfx631l\\croots\\recipe\\xgboost-split_1659548953302\\work\\src\\learner.cc:1115: Starting in XGBoost 1.3.0, the default evaluation metric used with the objective 'binary:logistic' was changed from 'error' to 'logloss'. Explicitly set eval_metric if you'd like to restore the old behavior.\n",
      "[21:56:25] WARNING: C:\\Windows\\Temp\\abs_557yfx631l\\croots\\recipe\\xgboost-split_1659548953302\\work\\src\\learner.cc:1115: Starting in XGBoost 1.3.0, the default evaluation metric used with the objective 'binary:logistic' was changed from 'error' to 'logloss'. Explicitly set eval_metric if you'd like to restore the old behavior.\n",
      "[21:56:30] WARNING: C:\\Windows\\Temp\\abs_557yfx631l\\croots\\recipe\\xgboost-split_1659548953302\\work\\src\\learner.cc:1115: Starting in XGBoost 1.3.0, the default evaluation metric used with the objective 'binary:logistic' was changed from 'error' to 'logloss'. Explicitly set eval_metric if you'd like to restore the old behavior.\n",
      "akurasi cross validation = 79.64%(0.43%)\n"
     ]
    }
   ],
   "source": [
    "kfold = KFold(n_splits=10)\n",
    "result = cross_val_score(model_xgb_bestparams,X_train, y_train,cv=kfold)\n",
    "print('akurasi cross validation = %.2f%%(%.2f%%)' %(result.mean()*100,result.std()*100))"
   ]
  },
  {
   "cell_type": "code",
   "execution_count": 51,
   "metadata": {},
   "outputs": [
    {
     "name": "stdout",
     "output_type": "stream",
     "text": [
      "akurasi cross validation = 79.64%(0.43%)\n"
     ]
    }
   ],
   "source": [
    "print('akurasi cross validation = %.2f%%(%.2f%%)' %(result.mean()*100,result.std()*100))"
   ]
  },
  {
   "cell_type": "markdown",
   "metadata": {},
   "source": [
    "#### overfitting check"
   ]
  },
  {
   "cell_type": "code",
   "execution_count": 52,
   "metadata": {},
   "outputs": [],
   "source": [
    "results = model_xgb_bestparams.evals_result()\n",
    "epochs = len(results['validation_0']['error'])\n",
    "x_axis = range(0,epochs)"
   ]
  },
  {
   "cell_type": "code",
   "execution_count": 53,
   "metadata": {},
   "outputs": [
    {
     "data": {
      "image/png": "[encoded data removed]",
      "text/plain": [
       "<Figure size 432x288 with 1 Axes>"
      ]
     },
     "metadata": {
      "needs_background": "light"
     },
     "output_type": "display_data"
    }
   ],
   "source": [
    "plt.plot(x_axis,results['validation_0']['error'],label='Train')\n",
    "plt.plot(x_axis,results['validation_1']['error'],label='Test')\n",
    "plt.legend()\n",
    "plt.ylabel('classification error')\n",
    "plt.xlabel('nboosted tree')\n",
    "plt.grid(True)"
   ]
  },
  {
   "cell_type": "code",
   "execution_count": 54,
   "metadata": {
    "scrolled": true
   },
   "outputs": [
    {
     "data": {
      "image/png": "[encoded data removed]",
      "text/plain": [
       "<Figure size 432x288 with 1 Axes>"
      ]
     },
     "metadata": {
      "needs_background": "light"
     },
     "output_type": "display_data"
    }
   ],
   "source": [
    "plt.plot(x_axis,results['validation_0']['logloss'],label='Train')\n",
    "plt.plot(x_axis,results['validation_1']['logloss'],label='Test')\n",
    "plt.legend()\n",
    "plt.ylabel('logloss')\n",
    "plt.xlabel('nboosted tree')\n",
    "plt.grid(True)"
   ]
  },
  {
   "cell_type": "markdown",
   "metadata": {},
   "source": [
    "Berdasarkan grafik, terlihat tidak ada overfitting"
   ]
  },
  {
   "cell_type": "markdown",
   "metadata": {},
   "source": [
    "#### feature importance "
   ]
  },
  {
   "cell_type": "code",
   "execution_count": 55,
   "metadata": {
    "scrolled": false
   },
   "outputs": [
    {
     "data": {
      "text/plain": [
       "Text(0, 0.5, 'F_Score')"
      ]
     },
     "execution_count": 55,
     "metadata": {},
     "output_type": "execute_result"
    },
    {
     "data": {
      "image/png": "[encoded data removed]",
      "text/plain": [
       "<Figure size 396x396 with 1 Axes>"
      ]
     },
     "metadata": {
      "needs_background": "light"
     },
     "output_type": "display_data"
    }
   ],
   "source": [
    "plt.figure(figsize = (5.5,5.5))\n",
    "plt.grid(axis = 'y', linewidth=0.5, color='black')\n",
    "plt.bar(range(len(model_xgb_bestparams.feature_importances_)),model_xgb_bestparams.feature_importances_)\n",
    "plt.title('Feature Important')\n",
    "plt.xlabel(\"nth Fitur\")\n",
    "plt.ylabel(\"F_Score\")"
   ]
  },
  {
   "cell_type": "markdown",
   "metadata": {},
   "source": [
    "Berdasarkan grafik feature importance yang berisi kolom fitur, didapatkan kolom Previously_Insured dan Vehicle_Damage paling berpengaruh dalam pemodelan untuk memprediksi respon pelanggan"
   ]
  },
  {
   "cell_type": "markdown",
   "metadata": {},
   "source": [
    "Mulai dari memuat dataset untuk memahami data terlebih dahulu, kemudian melakukan Exploratory data analysis, data cleaning, data manipulation dan encoding. Setelah itu mengatasi imbalanced handling dengan menggunakan metode under sampling lalu uji coba menggunakan model XGBoost dengan hyperparameter default dan menghasilkan akurasi 79.5%. Kemudian menguji model xgboost dengan tuned hyperparameter dan mendapatkan skor 79,6%. Dari hasil hyperparameter yang mendapatkan metric evaluasi, didapatkan recall dengan skor 0.927852708199529, ROC_AUC dengan skor 0.7927638621280241, precision dengan skor 0.7304904769930896. Dari hasil confusion matrix yang perlu diperharikan adalah False Negative yaitu ketika response pelanggan diprediksi tidak tertarik tetapi sebenarnya pelanggan tersebut tertarik. Untuk mengevaluasi kinerja model dilakukan cross validation yang menghasilkan akurasi 79.48%. Dan hasilnya tidak jauh beda dengan akurasi dari model XGBoost yang menggunakan hyperparameter. Berdasarkan hasil pemeriksaan overfitting, tidak terdapat overfitting pada hasil pemodelan dapat dilihat dari grafik yang ada. Berdasarkan kepentingan fitur, kolom Previous_Insured & Vehicle_Damage adalah kolom fitur yang paling berpengaruh dalam pemodelan prediktif. Model prediksi ini dapat digunakan untuk memperkirakan response customer Terhadap produk asuransi yang baru."
   ]
  },
  {
   "cell_type": "code",
   "execution_count": null,
   "metadata": {},
   "outputs": [],
   "source": []
  }
 ],
 "metadata": {
  "kernelspec": {
   "display_name": "Python 3",
   "language": "python",
   "name": "python3"
  },
  "language_info": {
   "codemirror_mode": {
    "name": "ipython",
    "version": 3
   },
   "file_extension": ".py",
   "mimetype": "text/x-python",
   "name": "python",
   "nbconvert_exporter": "python",
   "pygments_lexer": "ipython3",
   "version": "3.8.5"
  },
  "toc": {
   "base_numbering": 1,
   "nav_menu": {},
   "number_sections": true,
   "sideBar": true,
   "skip_h1_title": false,
   "title_cell": "Table of Contents",
   "title_sidebar": "Contents",
   "toc_cell": false,
   "toc_position": {
    "height": "calc(100% - 180px)",
    "left": "10px",
    "top": "150px",
    "width": "299.038px"
   },
   "toc_section_display": true,
   "toc_window_display": false
  }
 },
 "nbformat": 4,
 "nbformat_minor": 5
}
